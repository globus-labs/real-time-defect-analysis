{
 "cells": [
  {
   "cell_type": "markdown",
   "id": "a47d1f00-0c92-4b94-90c5-fd11d39106c4",
   "metadata": {},
   "source": [
    "# Make a Video of Defect Movement\n",
    "Make a video where we color each defect based on its void"
   ]
  },
  {
   "cell_type": "code",
   "execution_count": 1,
   "id": "1e5d6eec-bff2-46f7-a88e-4a3fc4db55f1",
   "metadata": {},
   "outputs": [],
   "source": [
    "%matplotlib inline\n",
    "from matplotlib import pyplot as plt\n",
    "from matplotlib import animation\n",
    "from matplotlib import colormaps\n",
    "from rtdefects.io import load_file\n",
    "from rtdefects.analysis import analyze_defects\n",
    "from skimage.transform import resize\n",
    "from skimage import measure\n",
    "from pathlib import Path\n",
    "from tqdm import tqdm\n",
    "import pandas as pd\n",
    "import numpy as np\n",
    "import shutil"
   ]
  },
  {
   "cell_type": "markdown",
   "id": "19fa25a8-89c5-41e6-b21f-8bfa7e08c05a",
   "metadata": {},
   "source": [
    "Configuration"
   ]
  },
  {
   "cell_type": "code",
   "execution_count": 2,
   "id": "f5abf222-4b41-45ec-b630-578cd3f726b0",
   "metadata": {},
   "outputs": [],
   "source": [
    "run_path = Path('../../runs/drift-corrected-625C/')\n",
    "video_name = 'movie'"
   ]
  },
  {
   "cell_type": "markdown",
   "id": "fd8e453b-2745-4eab-8268-fb1782f8675d",
   "metadata": {},
   "source": [
    "## Load in the Void Data\n",
    "Load in the void tracks from a previous notebook and the overall summaries in each"
   ]
  },
  {
   "cell_type": "code",
   "execution_count": 3,
   "id": "00172ff2-4625-427b-be15-d17d9d9d98a9",
   "metadata": {},
   "outputs": [
    {
     "data": {
      "text/html": [
       "<div>\n",
       "<style scoped>\n",
       "    .dataframe tbody tr th:only-of-type {\n",
       "        vertical-align: middle;\n",
       "    }\n",
       "\n",
       "    .dataframe tbody tr th {\n",
       "        vertical-align: top;\n",
       "    }\n",
       "\n",
       "    .dataframe thead th {\n",
       "        text-align: right;\n",
       "    }\n",
       "</style>\n",
       "<table border=\"1\" class=\"dataframe\">\n",
       "  <thead>\n",
       "    <tr style=\"text-align: right;\">\n",
       "      <th></th>\n",
       "      <th>start_frame</th>\n",
       "      <th>end_frame</th>\n",
       "      <th>total_frames</th>\n",
       "      <th>inferred_frames</th>\n",
       "      <th>positions</th>\n",
       "      <th>local_id</th>\n",
       "      <th>disp_from_start</th>\n",
       "      <th>max_disp</th>\n",
       "      <th>drift_rate</th>\n",
       "      <th>dist_traveled</th>\n",
       "      <th>total_traveled</th>\n",
       "      <th>movement_rate</th>\n",
       "      <th>radii</th>\n",
       "      <th>max_radius</th>\n",
       "      <th>min_radius</th>\n",
       "      <th>growth_rate</th>\n",
       "    </tr>\n",
       "  </thead>\n",
       "  <tbody>\n",
       "    <tr>\n",
       "      <th>0</th>\n",
       "      <td>0</td>\n",
       "      <td>61</td>\n",
       "      <td>62</td>\n",
       "      <td>56</td>\n",
       "      <td>[[3.7627118644, 745.3389830508], [3.8007532957...</td>\n",
       "      <td>[0, None, None, None, None, None, None, None, ...</td>\n",
       "      <td>[0.0, 0.0476965592, 0.0953931185, 0.1430896777...</td>\n",
       "      <td>3.201840</td>\n",
       "      <td>0.051643</td>\n",
       "      <td>[0.0, 0.0476965592, 0.0953931185, 0.1430896777...</td>\n",
       "      <td>6.772452</td>\n",
       "      <td>0.109233</td>\n",
       "      <td>[8.6672448413, 8.6422191577, 8.6171934741, 8.5...</td>\n",
       "      <td>9.236182</td>\n",
       "      <td>8.291860</td>\n",
       "      <td>0.015219</td>\n",
       "    </tr>\n",
       "    <tr>\n",
       "      <th>1</th>\n",
       "      <td>0</td>\n",
       "      <td>188</td>\n",
       "      <td>189</td>\n",
       "      <td>99</td>\n",
       "      <td>[[493.6526946108, 266.8922155689], [492.622950...</td>\n",
       "      <td>[34, 38, 41, 34, 34, 37, 32, None, None, None,...</td>\n",
       "      <td>[0.0, 1.2335113262, 2.0486717212, 2.3058971942...</td>\n",
       "      <td>16.633257</td>\n",
       "      <td>0.088007</td>\n",
       "      <td>[0.0, 1.2335113262, 2.2319189786, 3.089721106,...</td>\n",
       "      <td>134.976921</td>\n",
       "      <td>0.714164</td>\n",
       "      <td>[14.5818724439, 12.4633552648, 13.3511623562, ...</td>\n",
       "      <td>14.581872</td>\n",
       "      <td>8.058239</td>\n",
       "      <td>0.002569</td>\n",
       "    </tr>\n",
       "  </tbody>\n",
       "</table>\n",
       "</div>"
      ],
      "text/plain": [
       "   start_frame  end_frame  total_frames  inferred_frames  \\\n",
       "0            0         61            62               56   \n",
       "1            0        188           189               99   \n",
       "\n",
       "                                           positions  \\\n",
       "0  [[3.7627118644, 745.3389830508], [3.8007532957...   \n",
       "1  [[493.6526946108, 266.8922155689], [492.622950...   \n",
       "\n",
       "                                            local_id  \\\n",
       "0  [0, None, None, None, None, None, None, None, ...   \n",
       "1  [34, 38, 41, 34, 34, 37, 32, None, None, None,...   \n",
       "\n",
       "                                     disp_from_start   max_disp  drift_rate  \\\n",
       "0  [0.0, 0.0476965592, 0.0953931185, 0.1430896777...   3.201840    0.051643   \n",
       "1  [0.0, 1.2335113262, 2.0486717212, 2.3058971942...  16.633257    0.088007   \n",
       "\n",
       "                                       dist_traveled  total_traveled  \\\n",
       "0  [0.0, 0.0476965592, 0.0953931185, 0.1430896777...        6.772452   \n",
       "1  [0.0, 1.2335113262, 2.2319189786, 3.089721106,...      134.976921   \n",
       "\n",
       "   movement_rate                                              radii  \\\n",
       "0       0.109233  [8.6672448413, 8.6422191577, 8.6171934741, 8.5...   \n",
       "1       0.714164  [14.5818724439, 12.4633552648, 13.3511623562, ...   \n",
       "\n",
       "   max_radius  min_radius  growth_rate  \n",
       "0    9.236182    8.291860     0.015219  \n",
       "1   14.581872    8.058239     0.002569  "
      ]
     },
     "execution_count": 3,
     "metadata": {},
     "output_type": "execute_result"
    }
   ],
   "source": [
    "void_tracks = pd.read_json(run_path / 'void_tracks.json')\n",
    "void_tracks.head(2)"
   ]
  },
  {
   "cell_type": "code",
   "execution_count": 4,
   "id": "5e5ef21d-8576-45f7-806e-d0c8c5e805c8",
   "metadata": {},
   "outputs": [
    {
     "data": {
      "text/html": [
       "<div>\n",
       "<style scoped>\n",
       "    .dataframe tbody tr th:only-of-type {\n",
       "        vertical-align: middle;\n",
       "    }\n",
       "\n",
       "    .dataframe tbody tr th {\n",
       "        vertical-align: top;\n",
       "    }\n",
       "\n",
       "    .dataframe thead th {\n",
       "        text-align: right;\n",
       "    }\n",
       "</style>\n",
       "<table border=\"1\" class=\"dataframe\">\n",
       "  <thead>\n",
       "    <tr style=\"text-align: right;\">\n",
       "      <th></th>\n",
       "      <th>void_frac</th>\n",
       "      <th>void_count</th>\n",
       "      <th>radii</th>\n",
       "      <th>radii_average</th>\n",
       "      <th>positions</th>\n",
       "      <th>run_time</th>\n",
       "      <th>created_time</th>\n",
       "      <th>completed_time</th>\n",
       "      <th>mask-path</th>\n",
       "      <th>image-path</th>\n",
       "      <th>rtt</th>\n",
       "      <th>detect_time</th>\n",
       "      <th>frame</th>\n",
       "    </tr>\n",
       "  </thead>\n",
       "  <tbody>\n",
       "    <tr>\n",
       "      <th>0</th>\n",
       "      <td>0.027991</td>\n",
       "      <td>63</td>\n",
       "      <td>[8.6672448413, 21.1100412282, 43.2038096999, 9...</td>\n",
       "      <td>20.234154</td>\n",
       "      <td>[[3.7627118644, 745.3389830508], [7.5828571429...</td>\n",
       "      <td>0.312393</td>\n",
       "      <td>2023-04-20 12:50:41.216</td>\n",
       "      <td>2023-04-26 09:59:23.626</td>\n",
       "      <td>frames/masks/frame-0000.tiff</td>\n",
       "      <td>frames/frame-0000.tiff</td>\n",
       "      <td>11.955359</td>\n",
       "      <td>2023-04-26 09:59:11.671</td>\n",
       "      <td>0</td>\n",
       "    </tr>\n",
       "    <tr>\n",
       "      <th>1</th>\n",
       "      <td>0.029202</td>\n",
       "      <td>76</td>\n",
       "      <td>[21.5871645515, 42.937755656, 9.5078918629, 14...</td>\n",
       "      <td>18.648929</td>\n",
       "      <td>[[7.8169398907000005, 870.9972677596], [30.921...</td>\n",
       "      <td>0.327479</td>\n",
       "      <td>2023-04-20 12:50:41.216</td>\n",
       "      <td>2023-04-26 10:00:55.626</td>\n",
       "      <td>frames/masks/frame-0001.tiff</td>\n",
       "      <td>frames/frame-0001.tiff</td>\n",
       "      <td>103.953550</td>\n",
       "      <td>2023-04-26 09:59:11.672</td>\n",
       "      <td>1</td>\n",
       "    </tr>\n",
       "  </tbody>\n",
       "</table>\n",
       "</div>"
      ],
      "text/plain": [
       "   void_frac  void_count                                              radii  \\\n",
       "0   0.027991          63  [8.6672448413, 21.1100412282, 43.2038096999, 9...   \n",
       "1   0.029202          76  [21.5871645515, 42.937755656, 9.5078918629, 14...   \n",
       "\n",
       "   radii_average                                          positions  run_time  \\\n",
       "0      20.234154  [[3.7627118644, 745.3389830508], [7.5828571429...  0.312393   \n",
       "1      18.648929  [[7.8169398907000005, 870.9972677596], [30.921...  0.327479   \n",
       "\n",
       "             created_time          completed_time  \\\n",
       "0 2023-04-20 12:50:41.216 2023-04-26 09:59:23.626   \n",
       "1 2023-04-20 12:50:41.216 2023-04-26 10:00:55.626   \n",
       "\n",
       "                      mask-path              image-path         rtt  \\\n",
       "0  frames/masks/frame-0000.tiff  frames/frame-0000.tiff   11.955359   \n",
       "1  frames/masks/frame-0001.tiff  frames/frame-0001.tiff  103.953550   \n",
       "\n",
       "              detect_time  frame  \n",
       "0 2023-04-26 09:59:11.671      0  \n",
       "1 2023-04-26 09:59:11.672      1  "
      ]
     },
     "execution_count": 4,
     "metadata": {},
     "output_type": "execute_result"
    }
   ],
   "source": [
    "frame_data = pd.read_json(run_path / 'frame_data.json')\n",
    "frame_data.head(2)"
   ]
  },
  {
   "cell_type": "markdown",
   "id": "30d80ebb-b0bc-48f7-ae97-1c77c0700737",
   "metadata": {},
   "source": [
    "## Make colors for each void\n",
    "I want a color for each frame that are all from the same pallete, and that pallete to stand out from the gray background"
   ]
  },
  {
   "cell_type": "code",
   "execution_count": 5,
   "id": "e1c837c3-32d3-4f1a-baba-13c6f8fbcef4",
   "metadata": {},
   "outputs": [],
   "source": [
    "cmap = colormaps['nipy_spectral']"
   ]
  },
  {
   "cell_type": "markdown",
   "id": "6b808fad-7e3a-4b8a-bdf1-2c03ae3bba29",
   "metadata": {},
   "source": [
    "Get a list of incremental colors, then shuffle so they are in a random order"
   ]
  },
  {
   "cell_type": "code",
   "execution_count": 6,
   "id": "c857211b-7054-49dd-b36c-5fc8ceaf4854",
   "metadata": {},
   "outputs": [],
   "source": [
    "colors = np.linspace(0, 1, len(void_tracks))\n",
    "np.random.shuffle(colors)\n",
    "colors = cmap(colors)"
   ]
  },
  {
   "cell_type": "markdown",
   "id": "050d717d-5be5-4846-be5a-a22d11207c2f",
   "metadata": {},
   "source": [
    "## Plot a Single Frame\n",
    "Give each void in the frame a different color"
   ]
  },
  {
   "cell_type": "code",
   "execution_count": 7,
   "id": "60c8bd47-56c1-4ff1-82a8-3f8704425c3f",
   "metadata": {},
   "outputs": [],
   "source": [
    "frame = frame_data.iloc[10]"
   ]
  },
  {
   "cell_type": "code",
   "execution_count": 8,
   "id": "cac54b24-57be-4429-933e-37bc3ca56966",
   "metadata": {},
   "outputs": [
    {
     "data": {
      "text/plain": [
       "void_frac                                                  0.028667\n",
       "void_count                                                       67\n",
       "radii             [20.8062837914, 43.0414165379, 11.1703838512, ...\n",
       "radii_average                                             19.713451\n",
       "positions         [[7.2794117647, 870.9], [30.3725085911, 308.89...\n",
       "run_time                                                   0.325451\n",
       "created_time                             2023-04-20 12:50:41.220000\n",
       "completed_time                           2023-04-26 09:59:45.074000\n",
       "mask-path                              frames/masks/frame-0010.tiff\n",
       "image-path                                   frames/frame-0010.tiff\n",
       "rtt                                                       33.402716\n",
       "detect_time                              2023-04-26 09:59:11.671000\n",
       "frame                                                            10\n",
       "Name: 10, dtype: object"
      ]
     },
     "execution_count": 8,
     "metadata": {},
     "output_type": "execute_result"
    }
   ],
   "source": [
    "frame"
   ]
  },
  {
   "cell_type": "markdown",
   "id": "645dc5b3-6203-424f-94c9-e706b9b9398d",
   "metadata": {},
   "source": [
    "Load in the image and mask"
   ]
  },
  {
   "cell_type": "code",
   "execution_count": 9,
   "id": "d2203305-bf6d-4f90-aba4-c3d31d702609",
   "metadata": {},
   "outputs": [],
   "source": [
    "image = load_file(run_path / frame['image-path'])"
   ]
  },
  {
   "cell_type": "code",
   "execution_count": 10,
   "id": "8da081ad-70a7-45f8-9889-55850d5aeb6e",
   "metadata": {},
   "outputs": [],
   "source": [
    "mask = load_file(run_path / frame['mask-path'])"
   ]
  },
  {
   "cell_type": "markdown",
   "id": "c67a2a9f-1d83-4978-9f0c-01ec0ec2f090",
   "metadata": {},
   "source": [
    "Get the global ID for each void in this image"
   ]
  },
  {
   "cell_type": "code",
   "execution_count": 11,
   "id": "14a847a3-fb34-47fd-8cf4-c7a92658b973",
   "metadata": {},
   "outputs": [],
   "source": [
    "def get_global_id(frame_id: int) -> list[int]: \n",
    "    \"\"\"Get the global void numbers for each void in this image\n",
    "    \n",
    "    Args:\n",
    "        frame_id: ID for the frame in question\n",
    "    Returns:\n",
    "        Lookup of void number to overall number\n",
    "    \"\"\"\n",
    "    \n",
    "    # Determine how many voids I have\n",
    "    void_count = frame_data.iloc[frame_id]['void_count']\n",
    "    output = [0] * void_count\n",
    "    \n",
    "    # Get the tracks which could appear in this frame\n",
    "    my_tracks = void_tracks.query(f'start_frame <= {frame_id} and end_frame >= {frame_id}')\n",
    "    \n",
    "    # For each void in the global, get the id for this frame\n",
    "    for gid, track in my_tracks.iterrows():\n",
    "        local_frame = frame_id - track['start_frame']\n",
    "        local_id = track['local_id'][local_frame]\n",
    "        if local_id is not None: # If a void was detected in this frame\n",
    "            output[local_id] = gid\n",
    "    return output"
   ]
  },
  {
   "cell_type": "code",
   "execution_count": 12,
   "id": "907b7272-052e-45cf-a511-e7cabc18e8ce",
   "metadata": {},
   "outputs": [],
   "source": [
    "def load_and_label_mask(frame_id) -> np.ndarray:\n",
    "    \"\"\"Load a mask and assign the global id to each void\n",
    "    \n",
    "    Args:\n",
    "        frame_id: Index of the frame\n",
    "    Returns:\n",
    "        Array of label for each void and -1 for unlabelled pixels\n",
    "    \"\"\"\n",
    "    \n",
    "    # Load the mask rom disk\n",
    "    frame = frame_data.iloc[frame_id]\n",
    "    mask = load_file(run_path / frame['mask-path'])\n",
    "    \n",
    "    # Label the voids (establishes a local ID)\n",
    "    _, labels = analyze_defects(mask > 0.5)\n",
    "    labels -= 1  # These voids are 1-indexed, trackpy is 0-indexed\n",
    "    \n",
    "    # Update the IDs to the global ID\n",
    "    global_ids = get_global_id(frame_id)\n",
    "    output = labels.copy()\n",
    "    for local_id, global_id in enumerate(global_ids):\n",
    "        output[labels == local_id] = global_id\n",
    "    \n",
    "    return output\n",
    "labels = load_and_label_mask(10)"
   ]
  },
  {
   "cell_type": "markdown",
   "id": "b881ddad-f9fa-4a9d-a86f-0350f005a118",
   "metadata": {},
   "source": [
    "Make a colormap for each void"
   ]
  },
  {
   "cell_type": "code",
   "execution_count": 13,
   "id": "e4478132-9ea6-4444-9fdd-a8439ba1e6db",
   "metadata": {},
   "outputs": [],
   "source": [
    "def labels_to_colors(labels, colors) -> np.ndarray:\n",
    "    \"\"\"Generate an array where each pixel is colored according to its label\n",
    "    \n",
    "    Args:\n",
    "        label: Mask where we've labeled defect by index\n",
    "        colors: Colors to use for each index\n",
    "    Returns:\n",
    "        \n",
    "    \"\"\"\n",
    "    # Make the output\n",
    "    output = np.zeros((mask.shape[0], mask.shape[0], 4))\n",
    "    \n",
    "    # Set the color for each pixel\n",
    "    for i, j in zip(*np.where(labels >= 0)):\n",
    "        output[i, j, :] = colors[labels[i, j], :]\n",
    "    return output\n",
    "colored_mask = labels_to_colors(labels, colors)"
   ]
  },
  {
   "cell_type": "markdown",
   "id": "d57c3774-481f-47ee-a454-50632383a67d",
   "metadata": {},
   "source": [
    "Show the results on two nearly-adjacent frames"
   ]
  },
  {
   "cell_type": "code",
   "execution_count": 14,
   "id": "45e965ad-5a6d-45aa-8c51-ce759264c3ce",
   "metadata": {},
   "outputs": [
    {
     "data": {
      "image/png": "[encoded data removed]",
      "text/plain": [
       "<Figure size 200x400 with 2 Axes>"
      ]
     },
     "metadata": {},
     "output_type": "display_data"
    }
   ],
   "source": [
    "fig, axs = plt.subplots(2, 1, figsize=(2, 4.))\n",
    "\n",
    "for ax, fid in zip(axs, [10, 20]):\n",
    "    # Get the images\n",
    "    frame = frame_data.iloc[fid]\n",
    "    image = load_file(run_path / frame['image-path'])\n",
    "    labels = load_and_label_mask(fid)\n",
    "    colored_mask = labels_to_colors(labels, colors)\n",
    "    \n",
    "    # Plot them\n",
    "    ax.set_title(f'Frame: {fid}', loc='left', fontsize=8)\n",
    "    im1 = ax.imshow(image, cmap='gray', alpha=0.5, extent=[0, 1, 0, 1])\n",
    "    im2 = ax.imshow(colored_mask, alpha=0.8, extent=[0, 1, 0, 1])\n",
    "    ax.axison = False\n",
    "    \n",
    "fig.tight_layout()\n",
    "fig.savefig('figures/frames-with-global-ids.png', dpi=320)"
   ]
  },
  {
   "cell_type": "markdown",
   "id": "2e82510f-24f9-4fe0-85b4-c6024a978972",
   "metadata": {},
   "source": [
    "The above shows how we can "
   ]
  },
  {
   "cell_type": "markdown",
   "id": "1290c464-d9fb-424e-bdd4-74d6f6b722ed",
   "metadata": {},
   "source": [
    "## Make a Video\n",
    "Go through each frame and make a video [using a function-based strategy](https://matplotlib.org/stable/api/_as_gen/matplotlib.animation.FuncAnimation.html#matplotlib.animation.FuncAnimation)"
   ]
  },
  {
   "cell_type": "code",
   "execution_count": null,
   "id": "10461f65-b7f7-427c-9518-d869112e3132",
   "metadata": {},
   "outputs": [
    {
     "name": "stderr",
     "output_type": "stream",
     "text": [
      " 22%|█████████████████████████████████████████████████████▎                                                                                                                                                                                              | 74/339 [00:27<01:42,  2.58it/s]"
     ]
    }
   ],
   "source": [
    "fig, ax = plt.subplots(figsize=(3.5, 3.5))\n",
    "\n",
    "ax.axison=False\n",
    "frame_dir = Path(f\"videos/{video_name}-frames/\")       \n",
    "if frame_dir.exists():\n",
    "    shutil.rmtree(frame_dir)\n",
    "frame_dir.mkdir(parents=True)\n",
    "\n",
    "pbar = tqdm(total=len(frame_data))\n",
    "im1 = ax.imshow(image, cmap='gray', extent=[0, 1, 0, 1])\n",
    "im2 = ax.imshow(colored_mask, alpha=0.9, extent=[0, 1, 0, 1])\n",
    "\n",
    "def plot_frame(i):\n",
    "    pbar.update(1)\n",
    "    # Get the frames\n",
    "    frame = frame_data.iloc[i]\n",
    "    image = load_file(run_path / frame['image-path'])\n",
    "    labels = load_and_label_mask(i)\n",
    "    colored_mask = labels_to_colors(labels, colors)\n",
    "    \n",
    "    # Plot both\n",
    "    im1.set_data(image)\n",
    "    im2.set_data(colored_mask)\n",
    "    \n",
    "    # Write out the current frame\n",
    "    fig.savefig(frame_dir / f'frame-{i:04d}.tiff', dpi=320, pil_kwargs={\"compression\": \"tiff_lzw\"})\n",
    "    return im1, im2\n",
    "    \n",
    "fig.tight_layout(pad=0)\n",
    "\n",
    "ani = animation.FuncAnimation(fig, plot_frame, frames=len(frame_data), interval=3000 / len(frame_data), blit=True)\n",
    "writer = animation.FFMpegWriter(fps=15, bitrate=16000)\n",
    "ani.save(f\"videos/{video_name}.mp4\", writer=writer, dpi=320)"
   ]
  },
  {
   "cell_type": "code",
   "execution_count": null,
   "id": "d019b642-2967-4c21-8509-9955d375896a",
   "metadata": {},
   "outputs": [],
   "source": []
  }
 ],
 "metadata": {
  "kernelspec": {
   "display_name": "Python 3 (ipykernel)",
   "language": "python",
   "name": "python3"
  },
  "language_info": {
   "codemirror_mode": {
    "name": "ipython",
    "version": 3
   },
   "file_extension": ".py",
   "mimetype": "text/x-python",
   "name": "python",
   "nbconvert_exporter": "python",
   "pygments_lexer": "ipython3",
   "version": "3.10.10"
  }
 },
 "nbformat": 4,
 "nbformat_minor": 5
}
