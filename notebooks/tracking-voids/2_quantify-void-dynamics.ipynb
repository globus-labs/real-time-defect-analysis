{
 "cells": [
  {
   "cell_type": "markdown",
   "id": "8fb983f5-ae73-419a-b229-af9a6ea95eb3",
   "metadata": {},
   "source": [
    "# Pull out basic statistics about void life\n",
    "Use our matched voids to show a few things about how voids move and change"
   ]
  },
  {
   "cell_type": "code",
   "execution_count": 1,
   "id": "f93fa3bb-2367-489c-9890-a5172e1b127d",
   "metadata": {},
   "outputs": [],
   "source": [
    "%matplotlib inline\n",
    "from matplotlib import pyplot as plt\n",
    "from scipy.interpolate import UnivariateSpline\n",
    "from pathlib import Path\n",
    "import pandas as pd\n",
    "import numpy as np"
   ]
  },
  {
   "cell_type": "markdown",
   "id": "43c10f3c-fa3b-48da-adb9-a47a66f909cb",
   "metadata": {},
   "source": [
    "Configuration"
   ]
  },
  {
   "cell_type": "code",
   "execution_count": 2,
   "id": "29617c3c-60f1-4dba-817b-53f17f4119c3",
   "metadata": {},
   "outputs": [],
   "source": [
    "run_path = Path('../../runs/drift-corrected-625C/')\n",
    "pixel_size = 0.47  # nm/pixel"
   ]
  },
  {
   "cell_type": "markdown",
   "id": "c795e095-56e8-4e8c-95a0-3c949e34343c",
   "metadata": {},
   "source": [
    "## Load in the Void Data\n",
    "Load in the void tracks from a previous notebook and the overall summaries in each"
   ]
  },
  {
   "cell_type": "code",
   "execution_count": 3,
   "id": "23587a49-d9dd-4fa9-86ce-cac5a613fa05",
   "metadata": {},
   "outputs": [
    {
     "data": {
      "text/html": [
       "<div>\n",
       "<style scoped>\n",
       "    .dataframe tbody tr th:only-of-type {\n",
       "        vertical-align: middle;\n",
       "    }\n",
       "\n",
       "    .dataframe tbody tr th {\n",
       "        vertical-align: top;\n",
       "    }\n",
       "\n",
       "    .dataframe thead th {\n",
       "        text-align: right;\n",
       "    }\n",
       "</style>\n",
       "<table border=\"1\" class=\"dataframe\">\n",
       "  <thead>\n",
       "    <tr style=\"text-align: right;\">\n",
       "      <th></th>\n",
       "      <th>start_frame</th>\n",
       "      <th>end_frame</th>\n",
       "      <th>total_frames</th>\n",
       "      <th>inferred_frames</th>\n",
       "      <th>positions</th>\n",
       "      <th>local_id</th>\n",
       "      <th>disp_from_start</th>\n",
       "      <th>max_disp</th>\n",
       "      <th>drift_rate</th>\n",
       "      <th>dist_traveled</th>\n",
       "      <th>total_traveled</th>\n",
       "      <th>movement_rate</th>\n",
       "      <th>radii</th>\n",
       "      <th>max_radius</th>\n",
       "      <th>min_radius</th>\n",
       "      <th>growth_rate</th>\n",
       "    </tr>\n",
       "  </thead>\n",
       "  <tbody>\n",
       "    <tr>\n",
       "      <th>0</th>\n",
       "      <td>0</td>\n",
       "      <td>25</td>\n",
       "      <td>26</td>\n",
       "      <td>23</td>\n",
       "      <td>[[3.7627118644, 745.3389830508], [3.8007532957...</td>\n",
       "      <td>[0, None, None, None, None, None, None, None, ...</td>\n",
       "      <td>[0.0, 0.0476965592, 0.0953931185, 0.1430896777...</td>\n",
       "      <td>2.695101</td>\n",
       "      <td>0.103658</td>\n",
       "      <td>[0.0, 0.0476965592, 0.0953931185, 0.1430896777...</td>\n",
       "      <td>3.790152</td>\n",
       "      <td>0.145775</td>\n",
       "      <td>[4.3336224207, 4.3211095789, 4.3085967371, 4.2...</td>\n",
       "      <td>4.333622</td>\n",
       "      <td>4.145930</td>\n",
       "      <td>-0.012513</td>\n",
       "    </tr>\n",
       "    <tr>\n",
       "      <th>1</th>\n",
       "      <td>0</td>\n",
       "      <td>338</td>\n",
       "      <td>339</td>\n",
       "      <td>123</td>\n",
       "      <td>[[493.6526946108, 266.8922155689], [492.622950...</td>\n",
       "      <td>[34, 38, 41, 34, 34, 37, 32, None, None, None,...</td>\n",
       "      <td>[0.0, 1.2335113262, 2.0486717212, 2.3058971942...</td>\n",
       "      <td>17.745102</td>\n",
       "      <td>0.052345</td>\n",
       "      <td>[0.0, 1.2335113262, 2.2319189786, 3.089721106,...</td>\n",
       "      <td>465.101293</td>\n",
       "      <td>1.371980</td>\n",
       "      <td>[7.290936222, 6.2316776324, 6.6755811781, 5.64...</td>\n",
       "      <td>7.290936</td>\n",
       "      <td>3.989423</td>\n",
       "      <td>0.000141</td>\n",
       "    </tr>\n",
       "  </tbody>\n",
       "</table>\n",
       "</div>"
      ],
      "text/plain": [
       "   start_frame  end_frame  total_frames  inferred_frames  \\\n",
       "0            0         25            26               23   \n",
       "1            0        338           339              123   \n",
       "\n",
       "                                           positions  \\\n",
       "0  [[3.7627118644, 745.3389830508], [3.8007532957...   \n",
       "1  [[493.6526946108, 266.8922155689], [492.622950...   \n",
       "\n",
       "                                            local_id  \\\n",
       "0  [0, None, None, None, None, None, None, None, ...   \n",
       "1  [34, 38, 41, 34, 34, 37, 32, None, None, None,...   \n",
       "\n",
       "                                     disp_from_start   max_disp  drift_rate  \\\n",
       "0  [0.0, 0.0476965592, 0.0953931185, 0.1430896777...   2.695101    0.103658   \n",
       "1  [0.0, 1.2335113262, 2.0486717212, 2.3058971942...  17.745102    0.052345   \n",
       "\n",
       "                                       dist_traveled  total_traveled  \\\n",
       "0  [0.0, 0.0476965592, 0.0953931185, 0.1430896777...        3.790152   \n",
       "1  [0.0, 1.2335113262, 2.2319189786, 3.089721106,...      465.101293   \n",
       "\n",
       "   movement_rate                                              radii  \\\n",
       "0       0.145775  [4.3336224207, 4.3211095789, 4.3085967371, 4.2...   \n",
       "1       1.371980  [7.290936222, 6.2316776324, 6.6755811781, 5.64...   \n",
       "\n",
       "   max_radius  min_radius  growth_rate  \n",
       "0    4.333622    4.145930    -0.012513  \n",
       "1    7.290936    3.989423     0.000141  "
      ]
     },
     "execution_count": 3,
     "metadata": {},
     "output_type": "execute_result"
    }
   ],
   "source": [
    "void_tracks = pd.read_json(run_path / 'void_tracks.json')\n",
    "void_tracks.head(2)"
   ]
  },
  {
   "cell_type": "code",
   "execution_count": 4,
   "id": "0613e993-1511-48b7-8f59-4bcf9dbeae23",
   "metadata": {},
   "outputs": [
    {
     "data": {
      "text/html": [
       "<div>\n",
       "<style scoped>\n",
       "    .dataframe tbody tr th:only-of-type {\n",
       "        vertical-align: middle;\n",
       "    }\n",
       "\n",
       "    .dataframe tbody tr th {\n",
       "        vertical-align: top;\n",
       "    }\n",
       "\n",
       "    .dataframe thead th {\n",
       "        text-align: right;\n",
       "    }\n",
       "</style>\n",
       "<table border=\"1\" class=\"dataframe\">\n",
       "  <thead>\n",
       "    <tr style=\"text-align: right;\">\n",
       "      <th></th>\n",
       "      <th>void_frac</th>\n",
       "      <th>void_count</th>\n",
       "      <th>radii</th>\n",
       "      <th>radii_average</th>\n",
       "      <th>positions</th>\n",
       "      <th>run_time</th>\n",
       "      <th>created_time</th>\n",
       "      <th>completed_time</th>\n",
       "      <th>mask-path</th>\n",
       "      <th>image-path</th>\n",
       "      <th>rtt</th>\n",
       "      <th>detect_time</th>\n",
       "      <th>frame</th>\n",
       "    </tr>\n",
       "  </thead>\n",
       "  <tbody>\n",
       "    <tr>\n",
       "      <th>0</th>\n",
       "      <td>0.027991</td>\n",
       "      <td>63</td>\n",
       "      <td>[4.3336224207, 10.5550206141, 21.6019048499, 4...</td>\n",
       "      <td>10.117077</td>\n",
       "      <td>[[3.7627118644, 745.3389830508], [7.5828571429...</td>\n",
       "      <td>0.316171</td>\n",
       "      <td>2023-04-20 12:50:41.216</td>\n",
       "      <td>2023-04-26 18:45:39.257</td>\n",
       "      <td>frames/masks/frame-0000.tiff</td>\n",
       "      <td>frames/frame-0000.tiff</td>\n",
       "      <td>12.662785</td>\n",
       "      <td>2023-04-26 18:45:26.594</td>\n",
       "      <td>0</td>\n",
       "    </tr>\n",
       "    <tr>\n",
       "      <th>1</th>\n",
       "      <td>0.029202</td>\n",
       "      <td>76</td>\n",
       "      <td>[10.7935822757, 21.468877828, 4.7539459314, 7....</td>\n",
       "      <td>9.324464</td>\n",
       "      <td>[[7.8169398907000005, 870.9972677596], [30.921...</td>\n",
       "      <td>0.313740</td>\n",
       "      <td>2023-04-20 12:50:41.216</td>\n",
       "      <td>2023-04-26 18:47:09.517</td>\n",
       "      <td>frames/masks/frame-0001.tiff</td>\n",
       "      <td>frames/frame-0001.tiff</td>\n",
       "      <td>102.920291</td>\n",
       "      <td>2023-04-26 18:45:26.596</td>\n",
       "      <td>1</td>\n",
       "    </tr>\n",
       "  </tbody>\n",
       "</table>\n",
       "</div>"
      ],
      "text/plain": [
       "   void_frac  void_count                                              radii  \\\n",
       "0   0.027991          63  [4.3336224207, 10.5550206141, 21.6019048499, 4...   \n",
       "1   0.029202          76  [10.7935822757, 21.468877828, 4.7539459314, 7....   \n",
       "\n",
       "   radii_average                                          positions  run_time  \\\n",
       "0      10.117077  [[3.7627118644, 745.3389830508], [7.5828571429...  0.316171   \n",
       "1       9.324464  [[7.8169398907000005, 870.9972677596], [30.921...  0.313740   \n",
       "\n",
       "             created_time          completed_time  \\\n",
       "0 2023-04-20 12:50:41.216 2023-04-26 18:45:39.257   \n",
       "1 2023-04-20 12:50:41.216 2023-04-26 18:47:09.517   \n",
       "\n",
       "                      mask-path              image-path         rtt  \\\n",
       "0  frames/masks/frame-0000.tiff  frames/frame-0000.tiff   12.662785   \n",
       "1  frames/masks/frame-0001.tiff  frames/frame-0001.tiff  102.920291   \n",
       "\n",
       "              detect_time  frame  \n",
       "0 2023-04-26 18:45:26.594      0  \n",
       "1 2023-04-26 18:45:26.596      1  "
      ]
     },
     "execution_count": 4,
     "metadata": {},
     "output_type": "execute_result"
    }
   ],
   "source": [
    "frame_data = pd.read_json(run_path / 'frame_data.json')\n",
    "frame_data.head(2)"
   ]
  },
  {
   "cell_type": "markdown",
   "id": "750b6373-d0c9-4b87-aa03-f37c3b8dbdaa",
   "metadata": {},
   "source": [
    "## Evaluate Growth of Individual Voids\n",
    "Determine if there are rules which govern the mobility and growth of voids"
   ]
  },
  {
   "cell_type": "markdown",
   "id": "114ba8a7-9897-4fca-a2b8-e8683d673f98",
   "metadata": {},
   "source": [
    "### Coarse Metrics\n",
    "Are they growing or shrinking over their whole life?"
   ]
  },
  {
   "cell_type": "code",
   "execution_count": 5,
   "id": "64fb471d-d0f7-4b25-a8a5-6460bda47bae",
   "metadata": {},
   "outputs": [
    {
     "data": {
      "image/png": "[encoded data removed]",
      "text/plain": [
       "<Figure size 350x400 with 2 Axes>"
      ]
     },
     "metadata": {},
     "output_type": "display_data"
    }
   ],
   "source": [
    "fig, axs = plt.subplots(2, 1, figsize=(3.5, 4.), sharex=True)\n",
    "\n",
    "# Plot the void growth\n",
    "ax = axs[0]\n",
    "ax.scatter(void_tracks['max_radius'] * pixel_size, void_tracks['growth_rate'] * pixel_size, s=1)\n",
    "ax.set_xlim(0, 16)\n",
    "ax.plot(ax.get_xlim(), [0, 0], 'k--', lw=1)\n",
    "ax.set_ylabel('Growth (nm/frame)')\n",
    "\n",
    "# Plot the movement\n",
    "ax = axs[1]\n",
    "ax.scatter(void_tracks['max_radius'] * pixel_size, void_tracks['drift_rate'] * pixel_size, s=1)\n",
    "ax.set_ylabel('Drift (nm/frame)')\n",
    "\n",
    "ax.set_xlabel('Void Size, Max (nm)')\n",
    "fig.tight_layout()\n",
    "\n",
    "fig.savefig('figures/coarse-metrics.png', dpi=320)"
   ]
  },
  {
   "cell_type": "markdown",
   "id": "65134616-383b-430a-bd5f-27de307ee366",
   "metadata": {},
   "source": [
    "Large voids continue to continue to grow, small ones will disappear. Drift (how much it moved from the start) is only noticable for the small voids"
   ]
  },
  {
   "cell_type": "markdown",
   "id": "d1456bad-6b97-49f5-b6cb-53df8d2788f2",
   "metadata": {},
   "source": [
    "### Does that hold on at individual timesteps?\n",
    "Can we look at specific snapshots in time and see if smaller voids are more mobile and less likely to grow.\n",
    "\n",
    "Our strategy will be to fit a smoothing spline to the positions and radii, then estimate the derivatives at a few points along its timeline."
   ]
  },
  {
   "cell_type": "markdown",
   "id": "3f03d6c6-7554-4811-ba5f-b4a373474096",
   "metadata": {},
   "source": [
    "Start by examining a few voids"
   ]
  },
  {
   "cell_type": "code",
   "execution_count": 6,
   "id": "5c07a58d-79f9-49d5-b6c6-13c5ac7d4807",
   "metadata": {},
   "outputs": [],
   "source": [
    "big_void = void_tracks.sort_values('max_radius', ascending=False).iloc[0]"
   ]
  },
  {
   "cell_type": "code",
   "execution_count": 7,
   "id": "2952b43c-5e5b-4bfa-90fd-10e85d032027",
   "metadata": {},
   "outputs": [],
   "source": [
    "medium_void = void_tracks.sort_values('max_radius', ascending=False).iloc[25]"
   ]
  },
  {
   "cell_type": "code",
   "execution_count": 8,
   "id": "0b177dfc-03b0-4f42-91be-f4d42a93daf6",
   "metadata": {},
   "outputs": [
    {
     "data": {
      "image/png": "[encoded data removed]",
      "text/plain": [
       "<Figure size 350x250 with 2 Axes>"
      ]
     },
     "metadata": {},
     "output_type": "display_data"
    }
   ],
   "source": [
    "fig, axs = plt.subplots(2, 1, figsize=(3.5, 2.5), sharex=True)\n",
    "\n",
    "for c, ax in zip(['radii', 'dist_traveled'], axs):\n",
    "    ax.set_ylabel(c)\n",
    "    for void in [big_void, medium_void]:\n",
    "        x = np.arange(void['total_frames']) + void['start_frame']\n",
    "        spline = UnivariateSpline(x, void[c])\n",
    "        ax.scatter(x, void[c], s=1)\n",
    "        ax.plot(x, spline(x))\n",
    "    \n",
    "axs[-1].set_xlabel('Frame')\n",
    "fig.tight_layout()"
   ]
  },
  {
   "cell_type": "markdown",
   "id": "b3fd2b2a-3a86-4e3a-9b32-53299779d421",
   "metadata": {},
   "source": [
    "The spline works well with its default settings."
   ]
  },
  {
   "cell_type": "markdown",
   "id": "ed5dbd6c-220d-4462-a9a7-b80cd844394a",
   "metadata": {},
   "source": [
    "Repeat analysis for all voids then pick the derivatives at a few frames along the growth"
   ]
  },
  {
   "cell_type": "code",
   "execution_count": 9,
   "id": "0f61b867-8965-42eb-af54-7061728c1b74",
   "metadata": {},
   "outputs": [
    {
     "data": {
      "text/plain": [
       "start_frame                                                        0\n",
       "end_frame                                                        167\n",
       "total_frames                                                     168\n",
       "inferred_frames                                                   18\n",
       "positions          [[756.5970149254, 517.5273631841], [756.739795...\n",
       "local_id           [44, 54, 53, 49, 47, 53, 48, 47, 42, 52, 48, 4...\n",
       "disp_from_start    [0.0, 0.3627658741, 0.9657923489, 0.6954128137...\n",
       "max_disp                                                   15.366779\n",
       "drift_rate                                                  0.091469\n",
       "dist_traveled      [0.0, 0.3627658741, 0.9694119525, 1.2506030168...\n",
       "total_traveled                                            141.356051\n",
       "movement_rate                                               0.841405\n",
       "radii              [7.9987678503, 7.8986541697, 7.484820637, 8.66...\n",
       "max_radius                                                 10.387832\n",
       "min_radius                                                  4.333622\n",
       "growth_rate                                                -0.013371\n",
       "Name: 11, dtype: object"
      ]
     },
     "execution_count": 9,
     "metadata": {},
     "output_type": "execute_result"
    }
   ],
   "source": [
    "void"
   ]
  },
  {
   "cell_type": "code",
   "execution_count": 10,
   "id": "5935ddcf-b120-45f3-9763-7a3206d61995",
   "metadata": {},
   "outputs": [
    {
     "name": "stdout",
     "output_type": "stream",
     "text": [
      "Pulled 2486 snapshots\n"
     ]
    }
   ],
   "source": [
    "snapshots = []\n",
    "for _, void in void_tracks.query('total_frames > 32').iterrows():\n",
    "    # Get the rates of changes of voids wrt time\n",
    "    x = np.arange(void['total_frames']) + void['start_frame']\n",
    "    r_spline = UnivariateSpline(x, void['radii'])\n",
    "    m_spline = UnivariateSpline(x, void['dist_traveled']).derivative(1)\n",
    "    \n",
    "    # Measure it every 20 frames\n",
    "    r_spline_dt = r_spline.derivative(1)\n",
    "    for frame in x[::20]:\n",
    "        snapshots.append({\n",
    "            'void': void.name,\n",
    "            'frame': frame,\n",
    "            'radius': r_spline(frame),\n",
    "            'radius_dt': r_spline_dt(frame),\n",
    "            'movement': m_spline(frame)\n",
    "        })\n",
    "snapshots = pd.DataFrame(snapshots).sample(frac=1)\n",
    "print(f'Pulled {len(snapshots)} snapshots')"
   ]
  },
  {
   "cell_type": "code",
   "execution_count": 11,
   "id": "7737698e-4724-4476-b869-31556b05a50a",
   "metadata": {},
   "outputs": [
    {
     "data": {
      "image/png": "[encoded data removed]",
      "text/plain": [
       "<Figure size 350x350 with 2 Axes>"
      ]
     },
     "metadata": {},
     "output_type": "display_data"
    }
   ],
   "source": [
    "fig, axs = plt.subplots(2, 1, figsize=(3.5, 3.5))\n",
    "\n",
    "ax = axs[0]\n",
    "ax.scatter(snapshots['radius'], snapshots['radius_dt'], s=1, c=snapshots['void'], cmap='nipy_spectral')\n",
    "ax.set_xlim(0, max(ax.get_xlim()))\n",
    "ax.plot(ax.get_xlim(), [0, 0], 'k--', lw=1)\n",
    "ax.set_ylabel('Growth')\n",
    "\n",
    "ax = axs[1]\n",
    "ax.scatter(snapshots['radius'], snapshots['movement'], s=1, c=snapshots['void'], cmap='nipy_spectral')\n",
    "ax.set_ylim(0, max(ax.get_ylim()))\n",
    "ax.set_ylabel('Movement')\n",
    "\n",
    "ax.set_xlabel('Size')\n",
    "fig.tight_layout()\n",
    "fig.savefig('figures/time-resolved-voids.png')"
   ]
  },
  {
   "cell_type": "markdown",
   "id": "77b585f2-ff42-43eb-bbaf-3e5886c38b8a",
   "metadata": {},
   "source": [
    "The small ones are the ones growing rapidly and shrinking"
   ]
  },
  {
   "cell_type": "code",
   "execution_count": 12,
   "id": "6ee00469-e92f-4289-a553-c65bd2bc1264",
   "metadata": {},
   "outputs": [],
   "source": [
    "snapshots.to_csv(run_path / 'void_snapshots.csv', index=False)"
   ]
  },
  {
   "cell_type": "markdown",
   "id": "114e3ce4-f4c1-4c3c-ac4a-6f9c230cb846",
   "metadata": {},
   "source": [
    "## Change in Distribution over Time\n",
    "We start with a bimodal distribution and it becomes clearer over time"
   ]
  },
  {
   "cell_type": "code",
   "execution_count": 13,
   "id": "92fac86a-79ea-4cdb-b6d7-29d505fa8e54",
   "metadata": {
    "tags": []
   },
   "outputs": [
    {
     "data": {
      "image/png": "[encoded data removed]",
      "text/plain": [
       "<Figure size 500x175 with 2 Axes>"
      ]
     },
     "metadata": {},
     "output_type": "display_data"
    }
   ],
   "source": [
    "fig, axs = plt.subplots(1, 2, figsize=(5., 1.75), sharey=True, sharex=True)\n",
    "\n",
    "bins = np.linspace(0, 20, 32)\n",
    "for fid, ax in zip([10, 300], axs):\n",
    "    radii = np.multiply(frame_data.loc[fid]['radii'], pixel_size)\n",
    "    area = np.pi * radii ** 2\n",
    "    ax.hist(radii, bins=bins, weights=area)\n",
    "    ax.set_xlabel('Void Radius (nm)')\n",
    "    ax.text(0.01, 0.95, f'Frame: {fid}', transform=ax.transAxes, ha='left', va='top')\n",
    "axs[0].set_ylabel('Total area (nm$^2$)')\n",
    "\n",
    "fig.tight_layout()\n",
    "fig.savefig('figures/radius-histogram.png', dpi=320)"
   ]
  },
  {
   "cell_type": "code",
   "execution_count": null,
   "id": "8984a6e1-c700-4cc2-91fb-ab727d8592ae",
   "metadata": {},
   "outputs": [],
   "source": []
  },
  {
   "cell_type": "code",
   "execution_count": null,
   "id": "4c4eaec5-407f-41da-b321-f11ae63694ae",
   "metadata": {},
   "outputs": [],
   "source": []
  }
 ],
 "metadata": {
  "kernelspec": {
   "display_name": "Python 3 (ipykernel)",
   "language": "python",
   "name": "python3"
  },
  "language_info": {
   "codemirror_mode": {
    "name": "ipython",
    "version": 3
   },
   "file_extension": ".py",
   "mimetype": "text/x-python",
   "name": "python",
   "nbconvert_exporter": "python",
   "pygments_lexer": "ipython3",
   "version": "3.10.13"
  }
 },
 "nbformat": 4,
 "nbformat_minor": 5
}
