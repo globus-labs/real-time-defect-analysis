{
 "cells": [
  {
   "cell_type": "markdown",
   "id": "8fb983f5-ae73-419a-b229-af9a6ea95eb3",
   "metadata": {},
   "source": [
    "# Pull out basic statistics about void life\n",
    "Use our matched voids to show a few things about how voids move and change"
   ]
  },
  {
   "cell_type": "code",
   "execution_count": 1,
   "id": "f93fa3bb-2367-489c-9890-a5172e1b127d",
   "metadata": {
    "execution": {
     "iopub.execute_input": "2023-05-12T18:34:21.618330Z",
     "iopub.status.busy": "2023-05-12T18:34:21.618330Z",
     "iopub.status.idle": "2023-05-12T18:34:22.240466Z",
     "shell.execute_reply": "2023-05-12T18:34:22.240466Z"
    }
   },
   "outputs": [],
   "source": [
    "%matplotlib inline\n",
    "from matplotlib import pyplot as plt\n",
    "from pathlib import Path\n",
    "import pandas as pd\n",
    "import numpy as np"
   ]
  },
  {
   "cell_type": "markdown",
   "id": "43c10f3c-fa3b-48da-adb9-a47a66f909cb",
   "metadata": {},
   "source": [
    "Configuration"
   ]
  },
  {
   "cell_type": "code",
   "execution_count": 2,
   "id": "29617c3c-60f1-4dba-817b-53f17f4119c3",
   "metadata": {
    "execution": {
     "iopub.execute_input": "2023-05-12T18:34:22.243466Z",
     "iopub.status.busy": "2023-05-12T18:34:22.243466Z",
     "iopub.status.idle": "2023-05-12T18:34:22.246502Z",
     "shell.execute_reply": "2023-05-12T18:34:22.246502Z"
    }
   },
   "outputs": [],
   "source": [
    "run_path = Path('../../runs/drift-corrected-625C/')\n",
    "pixel_size = 0.47  # nm/pixel"
   ]
  },
  {
   "cell_type": "markdown",
   "id": "c795e095-56e8-4e8c-95a0-3c949e34343c",
   "metadata": {},
   "source": [
    "## Load in the Void Data\n",
    "Load in the void tracks from a previous notebook and the overall summaries in each"
   ]
  },
  {
   "cell_type": "code",
   "execution_count": 3,
   "id": "23587a49-d9dd-4fa9-86ce-cac5a613fa05",
   "metadata": {
    "execution": {
     "iopub.execute_input": "2023-05-12T18:34:22.249502Z",
     "iopub.status.busy": "2023-05-12T18:34:22.248503Z",
     "iopub.status.idle": "2023-05-12T18:34:22.316801Z",
     "shell.execute_reply": "2023-05-12T18:34:22.316801Z"
    }
   },
   "outputs": [
    {
     "data": {
      "text/html": [
       "<div>\n",
       "<style scoped>\n",
       "    .dataframe tbody tr th:only-of-type {\n",
       "        vertical-align: middle;\n",
       "    }\n",
       "\n",
       "    .dataframe tbody tr th {\n",
       "        vertical-align: top;\n",
       "    }\n",
       "\n",
       "    .dataframe thead th {\n",
       "        text-align: right;\n",
       "    }\n",
       "</style>\n",
       "<table border=\"1\" class=\"dataframe\">\n",
       "  <thead>\n",
       "    <tr style=\"text-align: right;\">\n",
       "      <th></th>\n",
       "      <th>start_frame</th>\n",
       "      <th>end_frame</th>\n",
       "      <th>total_frames</th>\n",
       "      <th>inferred_frames</th>\n",
       "      <th>positions</th>\n",
       "      <th>local_id</th>\n",
       "      <th>disp_from_start</th>\n",
       "      <th>max_disp</th>\n",
       "      <th>drift_rate</th>\n",
       "      <th>dist_traveled</th>\n",
       "      <th>total_traveled</th>\n",
       "      <th>movement_rate</th>\n",
       "      <th>radii</th>\n",
       "      <th>max_radius</th>\n",
       "      <th>min_radius</th>\n",
       "      <th>growth_rate</th>\n",
       "    </tr>\n",
       "  </thead>\n",
       "  <tbody>\n",
       "    <tr>\n",
       "      <th>0</th>\n",
       "      <td>0</td>\n",
       "      <td>25</td>\n",
       "      <td>26</td>\n",
       "      <td>23</td>\n",
       "      <td>[[3.7627118644, 745.3389830508], [3.8007532957...</td>\n",
       "      <td>[0, None, None, None, None, None, None, None, ...</td>\n",
       "      <td>[0.0, 0.0476965592, 0.0953931185, 0.1430896777...</td>\n",
       "      <td>2.695101</td>\n",
       "      <td>0.103658</td>\n",
       "      <td>[0.0, 0.0476965592, 0.0953931185, 0.1430896777...</td>\n",
       "      <td>3.790152</td>\n",
       "      <td>0.145775</td>\n",
       "      <td>[4.3336224207, 4.3211095789, 4.3085967371, 4.2...</td>\n",
       "      <td>4.333622</td>\n",
       "      <td>4.145930</td>\n",
       "      <td>-0.012513</td>\n",
       "    </tr>\n",
       "    <tr>\n",
       "      <th>1</th>\n",
       "      <td>0</td>\n",
       "      <td>338</td>\n",
       "      <td>339</td>\n",
       "      <td>123</td>\n",
       "      <td>[[493.6526946108, 266.8922155689], [492.622950...</td>\n",
       "      <td>[34, 38, 41, 34, 34, 37, 32, None, None, None,...</td>\n",
       "      <td>[0.0, 1.2335113262, 2.0486717212, 2.3058971942...</td>\n",
       "      <td>17.745102</td>\n",
       "      <td>0.052345</td>\n",
       "      <td>[0.0, 1.2335113262, 2.2319189786, 3.089721106,...</td>\n",
       "      <td>465.101293</td>\n",
       "      <td>1.371980</td>\n",
       "      <td>[7.290936222, 6.2316776324, 6.6755811781, 5.64...</td>\n",
       "      <td>7.290936</td>\n",
       "      <td>3.989423</td>\n",
       "      <td>0.000141</td>\n",
       "    </tr>\n",
       "  </tbody>\n",
       "</table>\n",
       "</div>"
      ],
      "text/plain": [
       "   start_frame  end_frame  total_frames  inferred_frames  \\\n",
       "0            0         25            26               23   \n",
       "1            0        338           339              123   \n",
       "\n",
       "                                           positions  \\\n",
       "0  [[3.7627118644, 745.3389830508], [3.8007532957...   \n",
       "1  [[493.6526946108, 266.8922155689], [492.622950...   \n",
       "\n",
       "                                            local_id  \\\n",
       "0  [0, None, None, None, None, None, None, None, ...   \n",
       "1  [34, 38, 41, 34, 34, 37, 32, None, None, None,...   \n",
       "\n",
       "                                     disp_from_start   max_disp  drift_rate  \\\n",
       "0  [0.0, 0.0476965592, 0.0953931185, 0.1430896777...   2.695101    0.103658   \n",
       "1  [0.0, 1.2335113262, 2.0486717212, 2.3058971942...  17.745102    0.052345   \n",
       "\n",
       "                                       dist_traveled  total_traveled  \\\n",
       "0  [0.0, 0.0476965592, 0.0953931185, 0.1430896777...        3.790152   \n",
       "1  [0.0, 1.2335113262, 2.2319189786, 3.089721106,...      465.101293   \n",
       "\n",
       "   movement_rate                                              radii  \\\n",
       "0       0.145775  [4.3336224207, 4.3211095789, 4.3085967371, 4.2...   \n",
       "1       1.371980  [7.290936222, 6.2316776324, 6.6755811781, 5.64...   \n",
       "\n",
       "   max_radius  min_radius  growth_rate  \n",
       "0    4.333622    4.145930    -0.012513  \n",
       "1    7.290936    3.989423     0.000141  "
      ]
     },
     "execution_count": 3,
     "metadata": {},
     "output_type": "execute_result"
    }
   ],
   "source": [
    "void_tracks = pd.read_json(run_path / 'void_tracks.json')\n",
    "void_tracks.head(2)"
   ]
  },
  {
   "cell_type": "code",
   "execution_count": 4,
   "id": "0613e993-1511-48b7-8f59-4bcf9dbeae23",
   "metadata": {
    "execution": {
     "iopub.execute_input": "2023-05-12T18:34:22.319799Z",
     "iopub.status.busy": "2023-05-12T18:34:22.318803Z",
     "iopub.status.idle": "2023-05-12T18:34:22.421466Z",
     "shell.execute_reply": "2023-05-12T18:34:22.421466Z"
    }
   },
   "outputs": [
    {
     "data": {
      "text/html": [
       "<div>\n",
       "<style scoped>\n",
       "    .dataframe tbody tr th:only-of-type {\n",
       "        vertical-align: middle;\n",
       "    }\n",
       "\n",
       "    .dataframe tbody tr th {\n",
       "        vertical-align: top;\n",
       "    }\n",
       "\n",
       "    .dataframe thead th {\n",
       "        text-align: right;\n",
       "    }\n",
       "</style>\n",
       "<table border=\"1\" class=\"dataframe\">\n",
       "  <thead>\n",
       "    <tr style=\"text-align: right;\">\n",
       "      <th></th>\n",
       "      <th>void_frac</th>\n",
       "      <th>void_count</th>\n",
       "      <th>radii</th>\n",
       "      <th>radii_average</th>\n",
       "      <th>positions</th>\n",
       "      <th>run_time</th>\n",
       "      <th>created_time</th>\n",
       "      <th>completed_time</th>\n",
       "      <th>mask-path</th>\n",
       "      <th>image-path</th>\n",
       "      <th>rtt</th>\n",
       "      <th>detect_time</th>\n",
       "      <th>frame</th>\n",
       "    </tr>\n",
       "  </thead>\n",
       "  <tbody>\n",
       "    <tr>\n",
       "      <th>0</th>\n",
       "      <td>0.027991</td>\n",
       "      <td>63</td>\n",
       "      <td>[4.3336224207, 10.5550206141, 21.6019048499, 4...</td>\n",
       "      <td>10.117077</td>\n",
       "      <td>[[3.7627118644, 745.3389830508], [7.5828571429...</td>\n",
       "      <td>0.316171</td>\n",
       "      <td>2023-04-20 12:50:41.216</td>\n",
       "      <td>2023-04-26 18:45:39.257</td>\n",
       "      <td>frames/masks/frame-0000.tiff</td>\n",
       "      <td>frames/frame-0000.tiff</td>\n",
       "      <td>12.662785</td>\n",
       "      <td>2023-04-26 18:45:26.594</td>\n",
       "      <td>0</td>\n",
       "    </tr>\n",
       "    <tr>\n",
       "      <th>1</th>\n",
       "      <td>0.029202</td>\n",
       "      <td>76</td>\n",
       "      <td>[10.7935822757, 21.468877828, 4.7539459314, 7....</td>\n",
       "      <td>9.324464</td>\n",
       "      <td>[[7.8169398907000005, 870.9972677596], [30.921...</td>\n",
       "      <td>0.313740</td>\n",
       "      <td>2023-04-20 12:50:41.216</td>\n",
       "      <td>2023-04-26 18:47:09.517</td>\n",
       "      <td>frames/masks/frame-0001.tiff</td>\n",
       "      <td>frames/frame-0001.tiff</td>\n",
       "      <td>102.920291</td>\n",
       "      <td>2023-04-26 18:45:26.596</td>\n",
       "      <td>1</td>\n",
       "    </tr>\n",
       "  </tbody>\n",
       "</table>\n",
       "</div>"
      ],
      "text/plain": [
       "   void_frac  void_count                                              radii  \\\n",
       "0   0.027991          63  [4.3336224207, 10.5550206141, 21.6019048499, 4...   \n",
       "1   0.029202          76  [10.7935822757, 21.468877828, 4.7539459314, 7....   \n",
       "\n",
       "   radii_average                                          positions  run_time  \\\n",
       "0      10.117077  [[3.7627118644, 745.3389830508], [7.5828571429...  0.316171   \n",
       "1       9.324464  [[7.8169398907000005, 870.9972677596], [30.921...  0.313740   \n",
       "\n",
       "             created_time          completed_time  \\\n",
       "0 2023-04-20 12:50:41.216 2023-04-26 18:45:39.257   \n",
       "1 2023-04-20 12:50:41.216 2023-04-26 18:47:09.517   \n",
       "\n",
       "                      mask-path              image-path         rtt  \\\n",
       "0  frames/masks/frame-0000.tiff  frames/frame-0000.tiff   12.662785   \n",
       "1  frames/masks/frame-0001.tiff  frames/frame-0001.tiff  102.920291   \n",
       "\n",
       "              detect_time  frame  \n",
       "0 2023-04-26 18:45:26.594      0  \n",
       "1 2023-04-26 18:45:26.596      1  "
      ]
     },
     "execution_count": 4,
     "metadata": {},
     "output_type": "execute_result"
    }
   ],
   "source": [
    "frame_data = pd.read_json(run_path / 'frame_data.json')\n",
    "frame_data.head(2)"
   ]
  },
  {
   "cell_type": "markdown",
   "id": "750b6373-d0c9-4b87-aa03-f37c3b8dbdaa",
   "metadata": {},
   "source": [
    "## Look at Coarse Metrics\n",
    "Are large voids growing or shrinking"
   ]
  },
  {
   "cell_type": "code",
   "execution_count": 5,
   "id": "64fb471d-d0f7-4b25-a8a5-6460bda47bae",
   "metadata": {
    "execution": {
     "iopub.execute_input": "2023-05-12T18:34:22.423975Z",
     "iopub.status.busy": "2023-05-12T18:34:22.423975Z",
     "iopub.status.idle": "2023-05-12T18:34:22.728138Z",
     "shell.execute_reply": "2023-05-12T18:34:22.728138Z"
    }
   },
   "outputs": [
    {
     "data": {
      "image/png": "[encoded data removed]",
      "text/plain": [
       "<Figure size 350x400 with 2 Axes>"
      ]
     },
     "metadata": {},
     "output_type": "display_data"
    }
   ],
   "source": [
    "fig, axs = plt.subplots(2, 1, figsize=(3.5, 4.), sharex=True)\n",
    "\n",
    "# Plot the void growth\n",
    "ax = axs[0]\n",
    "ax.scatter(void_tracks['max_radius'] * pixel_size, void_tracks['growth_rate'] * pixel_size, s=1)\n",
    "ax.set_xlim(0, 16)\n",
    "ax.plot(ax.get_xlim(), [0, 0], 'k--', lw=1)\n",
    "ax.set_ylabel('Growth (nm/frame)')\n",
    "\n",
    "# Plot the movement\n",
    "ax = axs[1]\n",
    "ax.scatter(void_tracks['max_radius'] * pixel_size, void_tracks['drift_rate'] * pixel_size, s=1)\n",
    "ax.set_ylabel('Drift (nm/frame)')\n",
    "\n",
    "ax.set_xlabel('Void Size, Max (nm)')\n",
    "fig.tight_layout()\n",
    "\n",
    "fig.savefig('figures/coarse-metrics.png', dpi=320)"
   ]
  },
  {
   "cell_type": "markdown",
   "id": "65134616-383b-430a-bd5f-27de307ee366",
   "metadata": {},
   "source": [
    "Large voids continue to continue to grow, small ones will disappear. Drift (how much it moved from the start) is only noticable for the small voids"
   ]
  },
  {
   "cell_type": "markdown",
   "id": "114e3ce4-f4c1-4c3c-ac4a-6f9c230cb846",
   "metadata": {},
   "source": [
    "## Change in Distribution over Time\n",
    "We start with a bimodal distribution and it becomes clearer over time"
   ]
  },
  {
   "cell_type": "code",
   "execution_count": 6,
   "id": "92fac86a-79ea-4cdb-b6d7-29d505fa8e54",
   "metadata": {
    "execution": {
     "iopub.execute_input": "2023-05-12T18:34:22.731135Z",
     "iopub.status.busy": "2023-05-12T18:34:22.730135Z",
     "iopub.status.idle": "2023-05-12T18:34:23.070797Z",
     "shell.execute_reply": "2023-05-12T18:34:23.070797Z"
    }
   },
   "outputs": [
    {
     "data": {
      "image/png": "[encoded data removed]",
      "text/plain": [
       "<Figure size 500x175 with 2 Axes>"
      ]
     },
     "metadata": {},
     "output_type": "display_data"
    }
   ],
   "source": [
    "fig, axs = plt.subplots(1, 2, figsize=(5., 1.75), sharey=True, sharex=True)\n",
    "\n",
    "bins = np.linspace(0, 20, 32)\n",
    "for fid, ax in zip([10, 300], axs):\n",
    "    radii = np.multiply(frame_data.loc[fid]['radii'], pixel_size)\n",
    "    area = np.pi * radii ** 2\n",
    "    ax.hist(radii, bins=bins, weights=area)\n",
    "    ax.set_xlabel('Void Radius (nm)')\n",
    "    ax.text(0.01, 0.95, f'Frame: {fid}', transform=ax.transAxes, ha='left', va='top')\n",
    "axs[0].set_ylabel('Total area (nm$^2$)')\n",
    "\n",
    "fig.tight_layout()\n",
    "fig.savefig('figures/radius-histogram.png', dpi=320)"
   ]
  },
  {
   "cell_type": "code",
   "execution_count": null,
   "id": "8984a6e1-c700-4cc2-91fb-ab727d8592ae",
   "metadata": {},
   "outputs": [],
   "source": []
  }
 ],
 "metadata": {
  "kernelspec": {
   "display_name": "Python 3 (ipykernel)",
   "language": "python",
   "name": "python3"
  },
  "language_info": {
   "codemirror_mode": {
    "name": "ipython",
    "version": 3
   },
   "file_extension": ".py",
   "mimetype": "text/x-python",
   "name": "python",
   "nbconvert_exporter": "python",
   "pygments_lexer": "ipython3",
   "version": "3.10.11"
  }
 },
 "nbformat": 4,
 "nbformat_minor": 5
}
