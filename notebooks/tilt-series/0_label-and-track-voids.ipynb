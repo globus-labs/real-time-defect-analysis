{
 "cells": [
  {
   "cell_type": "markdown",
   "id": "c2f5a6a9-42c8-4547-91f3-7484f6d5d5df",
   "metadata": {},
   "source": [
    "# Label and Track Voids\n",
    "Our first step in gathering the 3D positions of voids is to identify their location in each image of the tilt series, then track their movement across each image."
   ]
  },
  {
   "cell_type": "code",
   "execution_count": 1,
   "id": "18dadee0-a95b-4190-a2ea-578412ba96e2",
   "metadata": {},
   "outputs": [
    {
     "name": "stderr",
     "output_type": "stream",
     "text": [
      "/home/lward/miniconda3/envs/rtdefects/lib/python3.10/site-packages/tqdm/auto.py:21: TqdmWarning: IProgress not found. Please update jupyter and ipywidgets. See https://ipywidgets.readthedocs.io/en/stable/user_install.html\n",
      "  from .autonotebook import tqdm as notebook_tqdm\n"
     ]
    }
   ],
   "source": [
    "%matplotlib inline\n",
    "from matplotlib import pyplot as plt\n",
    "from rtdefects.drift import compute_drift_from_tracks\n",
    "from rtdefects.segmentation.pytorch import PyTorchSemanticSegmenter\n",
    "from rtdefects.analysis import analyze_defects, convert_to_per_particle, compile_void_tracks\n",
    "from rtdefects.io import load_file\n",
    "from collections import defaultdict\n",
    "from pathlib import Path\n",
    "from tqdm import tqdm\n",
    "import trackpy as tp\n",
    "import pandas as pd\n",
    "import numpy as np"
   ]
  },
  {
   "cell_type": "markdown",
   "id": "a7a3ff7a-2eb2-4a8f-87ca-df84f573c476",
   "metadata": {},
   "source": [
    "TODO: Convert from pixels to nm"
   ]
  },
  {
   "cell_type": "markdown",
   "id": "ab829c16-fc1c-449c-a9b2-922fac74c4c9",
   "metadata": {},
   "source": [
    "## Load the Images\n",
    "Get the names of positions of each image"
   ]
  },
  {
   "cell_type": "code",
   "execution_count": 2,
   "id": "36d3e29c-3d45-4bad-b0fb-5adf75931e90",
   "metadata": {},
   "outputs": [
    {
     "name": "stdout",
     "output_type": "stream",
     "text": [
      "Loaded 10 from tilt series\n"
     ]
    }
   ],
   "source": [
    "images = []\n",
    "for image in Path('images/').glob('tilt*.png'):\n",
    "    images.append({\n",
    "        'path': str(image),\n",
    "        'frame': int(image.name[4:-4])\n",
    "    })\n",
    "images = pd.DataFrame(images).sort_values('frame')\n",
    "print(f'Loaded {len(images)} from tilt series')"
   ]
  },
  {
   "cell_type": "markdown",
   "id": "6dbec934-0180-44d5-8f83-19504185a291",
   "metadata": {},
   "source": [
    "## Segment them\n",
    "Use the latest model from the void segmentation approach. The procedure for analyzing a single image is to:\n",
    "\n",
    "1. Load image from disk into a standard representation: grayscale represented as a floating point between 0-1\n",
    "2. Convert image into the form needed by a particular model\n",
    "3. Run segmentation to get the pixels for each void\n",
    "4. Run analysis to get a summary of the positions, sizes, etc for each void"
   ]
  },
  {
   "cell_type": "code",
   "execution_count": 3,
   "id": "5768c4ae-cdf6-48ad-be5f-3ebaca291fe2",
   "metadata": {},
   "outputs": [
    {
     "name": "stdout",
     "output_type": "stream",
     "text": [
      "Loaded the small_voids_031023.pth segmentation model.\n"
     ]
    }
   ],
   "source": [
    "segmenter = PyTorchSemanticSegmenter()\n",
    "print(f'Loaded the {segmenter.model_path.name} segmentation model.')"
   ]
  },
  {
   "cell_type": "code",
   "execution_count": 4,
   "id": "c5a20542-619b-49bf-a957-ae60bd4ea79d",
   "metadata": {},
   "outputs": [
    {
     "name": "stderr",
     "output_type": "stream",
     "text": [
      "100%|█████████████████████████████████████████████████████████████████████████████████████████████████████████████████████████████████████████████████████████████████████████████████████████████████████████████████████████████████████████████████████| 10/10 [00:34<00:00,  3.43s/it]\n"
     ]
    }
   ],
   "source": [
    "results = []\n",
    "for path in tqdm(images['path']):\n",
    "    img = load_file(path)\n",
    "    std_img = segmenter.transform_standard_image(img)\n",
    "    labeled_img = segmenter.perform_segmentation(std_img)\n",
    "    result = analyze_defects(labeled_img)\n",
    "    result['labeled_img'] = labeled_img\n",
    "    results.append(result)\n",
    "results = pd.DataFrame(results)"
   ]
  },
  {
   "cell_type": "code",
   "execution_count": 5,
   "id": "09398a62-c146-45be-b418-09da24c68bd5",
   "metadata": {},
   "outputs": [],
   "source": [
    "images = pd.concat([images, results], axis=1)"
   ]
  },
  {
   "cell_type": "markdown",
   "id": "bc52d51c-2b06-49df-8c59-4a4c1466b3b5",
   "metadata": {},
   "source": [
    "We now have the locations and sizes of voids for each frame"
   ]
  },
  {
   "cell_type": "markdown",
   "id": "4843a673-f584-45c0-8462-ec4d9efd332e",
   "metadata": {},
   "source": [
    "## Run the Particle Tracking\n",
    "We use [trackpy](https://soft-matter.github.io/trackpy/dev/), which expects each row in the dataframe to be a particle rather than a frame"
   ]
  },
  {
   "cell_type": "code",
   "execution_count": 6,
   "id": "89595180-92b0-4bdb-ade7-bf4dc1e8b051",
   "metadata": {},
   "outputs": [
    {
     "data": {
      "text/html": [
       "<div>\n",
       "<style scoped>\n",
       "    .dataframe tbody tr th:only-of-type {\n",
       "        vertical-align: middle;\n",
       "    }\n",
       "\n",
       "    .dataframe tbody tr th {\n",
       "        vertical-align: top;\n",
       "    }\n",
       "\n",
       "    .dataframe thead th {\n",
       "        text-align: right;\n",
       "    }\n",
       "</style>\n",
       "<table border=\"1\" class=\"dataframe\">\n",
       "  <thead>\n",
       "    <tr style=\"text-align: right;\">\n",
       "      <th></th>\n",
       "      <th>x</th>\n",
       "      <th>y</th>\n",
       "      <th>local_id</th>\n",
       "      <th>frame</th>\n",
       "      <th>radius</th>\n",
       "      <th>touches_side</th>\n",
       "    </tr>\n",
       "  </thead>\n",
       "  <tbody>\n",
       "    <tr>\n",
       "      <th>6</th>\n",
       "      <td>705.981818</td>\n",
       "      <td>13.854545</td>\n",
       "      <td>6</td>\n",
       "      <td>1</td>\n",
       "      <td>4.184142</td>\n",
       "      <td>False</td>\n",
       "    </tr>\n",
       "    <tr>\n",
       "      <th>7</th>\n",
       "      <td>729.123077</td>\n",
       "      <td>13.676923</td>\n",
       "      <td>7</td>\n",
       "      <td>1</td>\n",
       "      <td>4.548642</td>\n",
       "      <td>False</td>\n",
       "    </tr>\n",
       "    <tr>\n",
       "      <th>8</th>\n",
       "      <td>135.911111</td>\n",
       "      <td>16.144444</td>\n",
       "      <td>8</td>\n",
       "      <td>1</td>\n",
       "      <td>5.352372</td>\n",
       "      <td>False</td>\n",
       "    </tr>\n",
       "    <tr>\n",
       "      <th>9</th>\n",
       "      <td>635.136000</td>\n",
       "      <td>20.272000</td>\n",
       "      <td>9</td>\n",
       "      <td>1</td>\n",
       "      <td>8.920621</td>\n",
       "      <td>False</td>\n",
       "    </tr>\n",
       "    <tr>\n",
       "      <th>10</th>\n",
       "      <td>26.051546</td>\n",
       "      <td>22.752577</td>\n",
       "      <td>10</td>\n",
       "      <td>1</td>\n",
       "      <td>5.556623</td>\n",
       "      <td>False</td>\n",
       "    </tr>\n",
       "  </tbody>\n",
       "</table>\n",
       "</div>"
      ],
      "text/plain": [
       "             x          y  local_id  frame    radius  touches_side\n",
       "6   705.981818  13.854545         6      1  4.184142         False\n",
       "7   729.123077  13.676923         7      1  4.548642         False\n",
       "8   135.911111  16.144444         8      1  5.352372         False\n",
       "9   635.136000  20.272000         9      1  8.920621         False\n",
       "10   26.051546  22.752577        10      1  5.556623         False"
      ]
     },
     "execution_count": 6,
     "metadata": {},
     "output_type": "execute_result"
    }
   ],
   "source": [
    "particles = pd.concat(list(convert_to_per_particle(images))).query('not touches_side')\n",
    "particles.head(5)"
   ]
  },
  {
   "cell_type": "markdown",
   "id": "45018dae-1feb-4dc1-9c71-c33a50c6738d",
   "metadata": {},
   "source": [
    "Run the tracking, using a wide search range for the drift of a single void and no memory for voids being lost between frames.\n",
    "\n",
    "Rationale: We are only looking for a few easy-to-track particles to use when determining the tilt axis"
   ]
  },
  {
   "cell_type": "code",
   "execution_count": 7,
   "id": "0ba2058f-78d4-49d8-84ce-86fe5ad351ae",
   "metadata": {},
   "outputs": [
    {
     "name": "stdout",
     "output_type": "stream",
     "text": [
      "Frame 9: 550 trajectories present.\n",
      "Found a total of 2244 unique particles out of 4417 labelled.\n"
     ]
    }
   ],
   "source": [
    "initial_tracks = tp.link_df(particles, search_range=16, memory=1)\n",
    "print(f'Found a total of {len(initial_tracks.particle.value_counts())} unique particles out of {len(particles)} labelled.')"
   ]
  },
  {
   "cell_type": "markdown",
   "id": "3dfc7aea-b01a-4b6d-a99f-84b5cb656651",
   "metadata": {},
   "source": [
    "The output is the void in each frame assigned with a global ID, \"particle\""
   ]
  },
  {
   "cell_type": "code",
   "execution_count": 8,
   "id": "46b09fa8-da58-40af-8249-8454c65ccf4e",
   "metadata": {},
   "outputs": [
    {
     "data": {
      "text/html": [
       "<div>\n",
       "<style scoped>\n",
       "    .dataframe tbody tr th:only-of-type {\n",
       "        vertical-align: middle;\n",
       "    }\n",
       "\n",
       "    .dataframe tbody tr th {\n",
       "        vertical-align: top;\n",
       "    }\n",
       "\n",
       "    .dataframe thead th {\n",
       "        text-align: right;\n",
       "    }\n",
       "</style>\n",
       "<table border=\"1\" class=\"dataframe\">\n",
       "  <thead>\n",
       "    <tr style=\"text-align: right;\">\n",
       "      <th></th>\n",
       "      <th>x</th>\n",
       "      <th>y</th>\n",
       "      <th>local_id</th>\n",
       "      <th>frame</th>\n",
       "      <th>radius</th>\n",
       "      <th>touches_side</th>\n",
       "      <th>particle</th>\n",
       "    </tr>\n",
       "  </thead>\n",
       "  <tbody>\n",
       "    <tr>\n",
       "      <th>197</th>\n",
       "      <td>26.655172</td>\n",
       "      <td>586.534483</td>\n",
       "      <td>197</td>\n",
       "      <td>0</td>\n",
       "      <td>4.296740</td>\n",
       "      <td>False</td>\n",
       "      <td>0</td>\n",
       "    </tr>\n",
       "    <tr>\n",
       "      <th>252</th>\n",
       "      <td>574.044715</td>\n",
       "      <td>770.304878</td>\n",
       "      <td>252</td>\n",
       "      <td>0</td>\n",
       "      <td>12.514330</td>\n",
       "      <td>False</td>\n",
       "      <td>1</td>\n",
       "    </tr>\n",
       "    <tr>\n",
       "      <th>251</th>\n",
       "      <td>519.746795</td>\n",
       "      <td>764.150641</td>\n",
       "      <td>251</td>\n",
       "      <td>0</td>\n",
       "      <td>9.965575</td>\n",
       "      <td>False</td>\n",
       "      <td>2</td>\n",
       "    </tr>\n",
       "    <tr>\n",
       "      <th>250</th>\n",
       "      <td>80.303571</td>\n",
       "      <td>754.232143</td>\n",
       "      <td>250</td>\n",
       "      <td>0</td>\n",
       "      <td>4.222008</td>\n",
       "      <td>False</td>\n",
       "      <td>3</td>\n",
       "    </tr>\n",
       "    <tr>\n",
       "      <th>249</th>\n",
       "      <td>55.137255</td>\n",
       "      <td>753.568627</td>\n",
       "      <td>249</td>\n",
       "      <td>0</td>\n",
       "      <td>4.029120</td>\n",
       "      <td>False</td>\n",
       "      <td>4</td>\n",
       "    </tr>\n",
       "    <tr>\n",
       "      <th>...</th>\n",
       "      <td>...</td>\n",
       "      <td>...</td>\n",
       "      <td>...</td>\n",
       "      <td>...</td>\n",
       "      <td>...</td>\n",
       "      <td>...</td>\n",
       "      <td>...</td>\n",
       "    </tr>\n",
       "    <tr>\n",
       "      <th>375</th>\n",
       "      <td>615.553684</td>\n",
       "      <td>693.115789</td>\n",
       "      <td>375</td>\n",
       "      <td>9</td>\n",
       "      <td>12.296227</td>\n",
       "      <td>False</td>\n",
       "      <td>644</td>\n",
       "    </tr>\n",
       "    <tr>\n",
       "      <th>374</th>\n",
       "      <td>1006.424658</td>\n",
       "      <td>684.698630</td>\n",
       "      <td>374</td>\n",
       "      <td>9</td>\n",
       "      <td>4.820438</td>\n",
       "      <td>False</td>\n",
       "      <td>1712</td>\n",
       "    </tr>\n",
       "    <tr>\n",
       "      <th>373</th>\n",
       "      <td>80.721154</td>\n",
       "      <td>685.875000</td>\n",
       "      <td>373</td>\n",
       "      <td>9</td>\n",
       "      <td>5.753627</td>\n",
       "      <td>False</td>\n",
       "      <td>2243</td>\n",
       "    </tr>\n",
       "    <tr>\n",
       "      <th>379</th>\n",
       "      <td>876.961538</td>\n",
       "      <td>691.641026</td>\n",
       "      <td>379</td>\n",
       "      <td>9</td>\n",
       "      <td>4.982787</td>\n",
       "      <td>False</td>\n",
       "      <td>1711</td>\n",
       "    </tr>\n",
       "    <tr>\n",
       "      <th>96</th>\n",
       "      <td>470.333333</td>\n",
       "      <td>177.018519</td>\n",
       "      <td>96</td>\n",
       "      <td>9</td>\n",
       "      <td>4.145930</td>\n",
       "      <td>False</td>\n",
       "      <td>1781</td>\n",
       "    </tr>\n",
       "  </tbody>\n",
       "</table>\n",
       "<p>4417 rows × 7 columns</p>\n",
       "</div>"
      ],
      "text/plain": [
       "               x           y  local_id  frame     radius  touches_side  \\\n",
       "197    26.655172  586.534483       197      0   4.296740         False   \n",
       "252   574.044715  770.304878       252      0  12.514330         False   \n",
       "251   519.746795  764.150641       251      0   9.965575         False   \n",
       "250    80.303571  754.232143       250      0   4.222008         False   \n",
       "249    55.137255  753.568627       249      0   4.029120         False   \n",
       "..           ...         ...       ...    ...        ...           ...   \n",
       "375   615.553684  693.115789       375      9  12.296227         False   \n",
       "374  1006.424658  684.698630       374      9   4.820438         False   \n",
       "373    80.721154  685.875000       373      9   5.753627         False   \n",
       "379   876.961538  691.641026       379      9   4.982787         False   \n",
       "96    470.333333  177.018519        96      9   4.145930         False   \n",
       "\n",
       "     particle  \n",
       "197         0  \n",
       "252         1  \n",
       "251         2  \n",
       "250         3  \n",
       "249         4  \n",
       "..        ...  \n",
       "375       644  \n",
       "374      1712  \n",
       "373      2243  \n",
       "379      1711  \n",
       "96       1781  \n",
       "\n",
       "[4417 rows x 7 columns]"
      ]
     },
     "execution_count": 8,
     "metadata": {},
     "output_type": "execute_result"
    }
   ],
   "source": [
    "initial_tracks"
   ]
  },
  {
   "cell_type": "markdown",
   "id": "f6b18ad0-a7f3-4d85-bd7c-2d65d7e34d56",
   "metadata": {},
   "source": [
    "We'll next produce a summary where we group the same particule into each row"
   ]
  },
  {
   "cell_type": "code",
   "execution_count": 9,
   "id": "6b004dc4-9939-4492-8359-9d997b4a2ad2",
   "metadata": {},
   "outputs": [
    {
     "data": {
      "text/html": [
       "<div>\n",
       "<style scoped>\n",
       "    .dataframe tbody tr th:only-of-type {\n",
       "        vertical-align: middle;\n",
       "    }\n",
       "\n",
       "    .dataframe tbody tr th {\n",
       "        vertical-align: top;\n",
       "    }\n",
       "\n",
       "    .dataframe thead th {\n",
       "        text-align: right;\n",
       "    }\n",
       "</style>\n",
       "<table border=\"1\" class=\"dataframe\">\n",
       "  <thead>\n",
       "    <tr style=\"text-align: right;\">\n",
       "      <th></th>\n",
       "      <th>start_frame</th>\n",
       "      <th>end_frame</th>\n",
       "      <th>total_frames</th>\n",
       "      <th>inferred_frames</th>\n",
       "      <th>positions</th>\n",
       "      <th>touches_side</th>\n",
       "      <th>local_id</th>\n",
       "      <th>radii</th>\n",
       "      <th>max_radius</th>\n",
       "      <th>min_radius</th>\n",
       "      <th>disp_from_start</th>\n",
       "      <th>max_disp</th>\n",
       "      <th>drift_rate</th>\n",
       "      <th>dist_traveled</th>\n",
       "      <th>total_traveled</th>\n",
       "      <th>movement_rate</th>\n",
       "      <th>growth_rate</th>\n",
       "    </tr>\n",
       "  </thead>\n",
       "  <tbody>\n",
       "    <tr>\n",
       "      <th>340</th>\n",
       "      <td>0</td>\n",
       "      <td>9</td>\n",
       "      <td>10</td>\n",
       "      <td>2</td>\n",
       "      <td>[[340.8484848484849, 409.530303030303], [345.8...</td>\n",
       "      <td>[False, False, False, False, False, False, Fal...</td>\n",
       "      <td>[132, None, 162, 148, 158, 204, 229, 194, None...</td>\n",
       "      <td>[4.583497844237541, 9.161206005960764, 13.7389...</td>\n",
       "      <td>13.738914</td>\n",
       "      <td>4.583498</td>\n",
       "      <td>[0.0, 5.323026767470256, 10.646053534940512, 7...</td>\n",
       "      <td>24.837646</td>\n",
       "      <td>2.483765</td>\n",
       "      <td>[0.0, 5.323026767470256, 10.646053534940512, 2...</td>\n",
       "      <td>68.163608</td>\n",
       "      <td>6.816361</td>\n",
       "      <td>0.169382</td>\n",
       "    </tr>\n",
       "    <tr>\n",
       "      <th>143</th>\n",
       "      <td>0</td>\n",
       "      <td>9</td>\n",
       "      <td>10</td>\n",
       "      <td>3</td>\n",
       "      <td>[[936.3693181818181, 874.0823863636364], [934....</td>\n",
       "      <td>[False, False, False, False, False, False, Fal...</td>\n",
       "      <td>[299, 354, None, 344, 362, 430, None, 411, Non...</td>\n",
       "      <td>[10.585134856802455, 10.013371767186818, 8.791...</td>\n",
       "      <td>10.585135</td>\n",
       "      <td>5.641896</td>\n",
       "      <td>[0.0, 2.489969481129466, 5.1023129482621625, 7...</td>\n",
       "      <td>15.988860</td>\n",
       "      <td>1.598886</td>\n",
       "      <td>[0.0, 2.489969481129466, 5.265541536230169, 8....</td>\n",
       "      <td>49.866610</td>\n",
       "      <td>4.986661</td>\n",
       "      <td>-0.555214</td>\n",
       "    </tr>\n",
       "    <tr>\n",
       "      <th>202</th>\n",
       "      <td>0</td>\n",
       "      <td>9</td>\n",
       "      <td>10</td>\n",
       "      <td>3</td>\n",
       "      <td>[[349.82666666666665, 253.84], [354.9039875389...</td>\n",
       "      <td>[False, False, False, False, False, False, Fal...</td>\n",
       "      <td>[89, None, 104, None, 93, 126, None, 119, 105,...</td>\n",
       "      <td>[4.886025119029199, 5.361023775294347, 5.83602...</td>\n",
       "      <td>6.432751</td>\n",
       "      <td>4.406462</td>\n",
       "      <td>[0.0, 7.351990432888108, 14.703980865776234, 1...</td>\n",
       "      <td>25.791179</td>\n",
       "      <td>2.579118</td>\n",
       "      <td>[0.0, 7.351990432888108, 14.703980865776234, 1...</td>\n",
       "      <td>57.588364</td>\n",
       "      <td>5.758836</td>\n",
       "      <td>0.054042</td>\n",
       "    </tr>\n",
       "    <tr>\n",
       "      <th>26</th>\n",
       "      <td>0</td>\n",
       "      <td>9</td>\n",
       "      <td>10</td>\n",
       "      <td>3</td>\n",
       "      <td>[[964.6125, 804.79375], [964.6750840807174, 80...</td>\n",
       "      <td>[False, False, False, False, False, False, Fal...</td>\n",
       "      <td>[273, None, 313, 318, None, 391, 425, 366, Non...</td>\n",
       "      <td>[7.136496464611085, 9.525726919593703, 11.9149...</td>\n",
       "      <td>13.351162</td>\n",
       "      <td>5.170883</td>\n",
       "      <td>[0.0, 0.6610549430593472, 1.3221098861185918, ...</td>\n",
       "      <td>31.390141</td>\n",
       "      <td>3.139014</td>\n",
       "      <td>[0.0, 0.6610549430593472, 1.322109886118592, 8...</td>\n",
       "      <td>49.865015</td>\n",
       "      <td>4.986502</td>\n",
       "      <td>0.119178</td>\n",
       "    </tr>\n",
       "    <tr>\n",
       "      <th>51</th>\n",
       "      <td>0</td>\n",
       "      <td>9</td>\n",
       "      <td>10</td>\n",
       "      <td>2</td>\n",
       "      <td>[[715.6424242424242, 602.9666666666667], [714....</td>\n",
       "      <td>[False, False, False, False, False, False, Fal...</td>\n",
       "      <td>[200, None, 222, None, 229, 281, 315, 268, 245...</td>\n",
       "      <td>[10.249012754438885, 11.800087555343989, 13.35...</td>\n",
       "      <td>13.634257</td>\n",
       "      <td>4.333622</td>\n",
       "      <td>[0.0, 5.807213477186738, 11.6144269543735, 13....</td>\n",
       "      <td>21.119718</td>\n",
       "      <td>2.111972</td>\n",
       "      <td>[0.0, 5.807213477186738, 11.6144269543735, 15....</td>\n",
       "      <td>67.622976</td>\n",
       "      <td>6.762298</td>\n",
       "      <td>-1.178393</td>\n",
       "    </tr>\n",
       "  </tbody>\n",
       "</table>\n",
       "</div>"
      ],
      "text/plain": [
       "     start_frame  end_frame  total_frames  inferred_frames  \\\n",
       "340            0          9            10                2   \n",
       "143            0          9            10                3   \n",
       "202            0          9            10                3   \n",
       "26             0          9            10                3   \n",
       "51             0          9            10                2   \n",
       "\n",
       "                                             positions  \\\n",
       "340  [[340.8484848484849, 409.530303030303], [345.8...   \n",
       "143  [[936.3693181818181, 874.0823863636364], [934....   \n",
       "202  [[349.82666666666665, 253.84], [354.9039875389...   \n",
       "26   [[964.6125, 804.79375], [964.6750840807174, 80...   \n",
       "51   [[715.6424242424242, 602.9666666666667], [714....   \n",
       "\n",
       "                                          touches_side  \\\n",
       "340  [False, False, False, False, False, False, Fal...   \n",
       "143  [False, False, False, False, False, False, Fal...   \n",
       "202  [False, False, False, False, False, False, Fal...   \n",
       "26   [False, False, False, False, False, False, Fal...   \n",
       "51   [False, False, False, False, False, False, Fal...   \n",
       "\n",
       "                                              local_id  \\\n",
       "340  [132, None, 162, 148, 158, 204, 229, 194, None...   \n",
       "143  [299, 354, None, 344, 362, 430, None, 411, Non...   \n",
       "202  [89, None, 104, None, 93, 126, None, 119, 105,...   \n",
       "26   [273, None, 313, 318, None, 391, 425, 366, Non...   \n",
       "51   [200, None, 222, None, 229, 281, 315, 268, 245...   \n",
       "\n",
       "                                                 radii  max_radius  \\\n",
       "340  [4.583497844237541, 9.161206005960764, 13.7389...   13.738914   \n",
       "143  [10.585134856802455, 10.013371767186818, 8.791...   10.585135   \n",
       "202  [4.886025119029199, 5.361023775294347, 5.83602...    6.432751   \n",
       "26   [7.136496464611085, 9.525726919593703, 11.9149...   13.351162   \n",
       "51   [10.249012754438885, 11.800087555343989, 13.35...   13.634257   \n",
       "\n",
       "     min_radius                                    disp_from_start   max_disp  \\\n",
       "340    4.583498  [0.0, 5.323026767470256, 10.646053534940512, 7...  24.837646   \n",
       "143    5.641896  [0.0, 2.489969481129466, 5.1023129482621625, 7...  15.988860   \n",
       "202    4.406462  [0.0, 7.351990432888108, 14.703980865776234, 1...  25.791179   \n",
       "26     5.170883  [0.0, 0.6610549430593472, 1.3221098861185918, ...  31.390141   \n",
       "51     4.333622  [0.0, 5.807213477186738, 11.6144269543735, 13....  21.119718   \n",
       "\n",
       "     drift_rate                                      dist_traveled  \\\n",
       "340    2.483765  [0.0, 5.323026767470256, 10.646053534940512, 2...   \n",
       "143    1.598886  [0.0, 2.489969481129466, 5.265541536230169, 8....   \n",
       "202    2.579118  [0.0, 7.351990432888108, 14.703980865776234, 1...   \n",
       "26     3.139014  [0.0, 0.6610549430593472, 1.322109886118592, 8...   \n",
       "51     2.111972  [0.0, 5.807213477186738, 11.6144269543735, 15....   \n",
       "\n",
       "     total_traveled  movement_rate  growth_rate  \n",
       "340       68.163608       6.816361     0.169382  \n",
       "143       49.866610       4.986661    -0.555214  \n",
       "202       57.588364       5.758836     0.054042  \n",
       "26        49.865015       4.986502     0.119178  \n",
       "51        67.622976       6.762298    -1.178393  "
      ]
     },
     "execution_count": 9,
     "metadata": {},
     "output_type": "execute_result"
    }
   ],
   "source": [
    "initial_void_tracks = compile_void_tracks(initial_tracks)\n",
    "initial_void_tracks.sort_values('total_frames', ascending=False).head()"
   ]
  },
  {
   "cell_type": "markdown",
   "id": "75534df4-349b-4896-a940-a9350d596a28",
   "metadata": {},
   "source": [
    "## Compute Drift and Re-Run Tracking\n",
    "The tracks give us some idea of drift, which we can use to improve the identification of other tracks"
   ]
  },
  {
   "cell_type": "markdown",
   "id": "8b8952a1-0d1b-4f6c-8cbb-376018ef5ab9",
   "metadata": {},
   "source": [
    "Compute drift then subtract it from the particle positions"
   ]
  },
  {
   "cell_type": "code",
   "execution_count": 10,
   "id": "8f88a862-9cf4-4866-9135-5bc014c23662",
   "metadata": {},
   "outputs": [
    {
     "data": {
      "text/plain": [
       "array([[ 0.        ,  0.        ],\n",
       "       [ 0.69080252,  0.10161348],\n",
       "       [ 0.24227679, -0.05787819],\n",
       "       [ 0.50767126, -2.32532639],\n",
       "       [-4.76249566,  4.21682211],\n",
       "       [ 3.83870996,  9.49588731],\n",
       "       [ 4.92599871,  9.06409521],\n",
       "       [ 2.3048236 ,  8.0137429 ],\n",
       "       [ 2.76466006,  8.84924926],\n",
       "       [ 2.97610038,  5.94037321]])"
      ]
     },
     "execution_count": 10,
     "metadata": {},
     "output_type": "execute_result"
    }
   ],
   "source": [
    "drift = compute_drift_from_tracks(initial_tracks)\n",
    "drift"
   ]
  },
  {
   "cell_type": "code",
   "execution_count": 11,
   "id": "c7cceb0b-91cc-4672-8035-9ee8208117be",
   "metadata": {},
   "outputs": [],
   "source": [
    "images['positions-no-drift'] = images.apply(lambda x: np.subtract(x['positions'], drift[x['frame'] - 1, :]), axis=1)"
   ]
  },
  {
   "cell_type": "markdown",
   "id": "be5126c1-c3f4-4887-a27e-1c6fcf90c948",
   "metadata": {},
   "source": [
    "Redo the tracking with the "
   ]
  },
  {
   "cell_type": "code",
   "execution_count": 12,
   "id": "41b89eda-54b8-4080-ab81-b1c2237199a6",
   "metadata": {},
   "outputs": [
    {
     "name": "stdout",
     "output_type": "stream",
     "text": [
      "Frame 9: 550 trajectories present.\n",
      "Found a total of 2244 unique particles out of 4417 labelled.\n"
     ]
    }
   ],
   "source": [
    "particles = pd.concat(list(convert_to_per_particle(images, position_col='positions-no-drift'))).query('not touches_side')\n",
    "tracks = tp.link_df(particles, search_range=16, memory=1)\n",
    "print(f'Found a total of {len(initial_tracks.particle.value_counts())} unique particles out of {len(particles)} labelled.')"
   ]
  },
  {
   "cell_type": "code",
   "execution_count": 13,
   "id": "a272647c-9bdb-4f8a-8f5a-22cd4a95db71",
   "metadata": {},
   "outputs": [
    {
     "data": {
      "text/html": [
       "<div>\n",
       "<style scoped>\n",
       "    .dataframe tbody tr th:only-of-type {\n",
       "        vertical-align: middle;\n",
       "    }\n",
       "\n",
       "    .dataframe tbody tr th {\n",
       "        vertical-align: top;\n",
       "    }\n",
       "\n",
       "    .dataframe thead th {\n",
       "        text-align: right;\n",
       "    }\n",
       "</style>\n",
       "<table border=\"1\" class=\"dataframe\">\n",
       "  <thead>\n",
       "    <tr style=\"text-align: right;\">\n",
       "      <th></th>\n",
       "      <th>start_frame</th>\n",
       "      <th>end_frame</th>\n",
       "      <th>total_frames</th>\n",
       "      <th>inferred_frames</th>\n",
       "      <th>positions</th>\n",
       "      <th>touches_side</th>\n",
       "      <th>local_id</th>\n",
       "      <th>radii</th>\n",
       "      <th>max_radius</th>\n",
       "      <th>min_radius</th>\n",
       "      <th>disp_from_start</th>\n",
       "      <th>max_disp</th>\n",
       "      <th>drift_rate</th>\n",
       "      <th>dist_traveled</th>\n",
       "      <th>total_traveled</th>\n",
       "      <th>movement_rate</th>\n",
       "      <th>growth_rate</th>\n",
       "    </tr>\n",
       "  </thead>\n",
       "  <tbody>\n",
       "    <tr>\n",
       "      <th>84</th>\n",
       "      <td>0</td>\n",
       "      <td>9</td>\n",
       "      <td>10</td>\n",
       "      <td>2</td>\n",
       "      <td>[[924.4424223401345, 630.4622205804176], [922....</td>\n",
       "      <td>[False, False, False, False, False, False, Fal...</td>\n",
       "      <td>[213, 239, 247, None, 252, 304, 338, 284, None...</td>\n",
       "      <td>[4.259537945889915, 13.957279475043833, 5.8086...</td>\n",
       "      <td>13.957279</td>\n",
       "      <td>4.259538</td>\n",
       "      <td>[0.0, 1.9500745649647626, 7.513096711181075, 9...</td>\n",
       "      <td>22.162873</td>\n",
       "      <td>2.216287</td>\n",
       "      <td>[0.0, 1.9500745649647626, 11.258680965615211, ...</td>\n",
       "      <td>48.609589</td>\n",
       "      <td>4.860959</td>\n",
       "      <td>0.136197</td>\n",
       "    </tr>\n",
       "    <tr>\n",
       "      <th>254</th>\n",
       "      <td>0</td>\n",
       "      <td>9</td>\n",
       "      <td>10</td>\n",
       "      <td>2</td>\n",
       "      <td>[[462.59921137153657, 87.3266610934649], [464....</td>\n",
       "      <td>[False, False, False, False, False, False, Fal...</td>\n",
       "      <td>[35, None, 41, 29, 34, 53, 50, None, 26, 45]</td>\n",
       "      <td>[8.703892974511014, 10.077845392836224, 11.451...</td>\n",
       "      <td>13.134838</td>\n",
       "      <td>4.184142</td>\n",
       "      <td>[0.0, 2.6256147586666496, 5.2512295173333055, ...</td>\n",
       "      <td>15.325503</td>\n",
       "      <td>1.532550</td>\n",
       "      <td>[0.0, 2.6256147586666496, 5.2512295173333055, ...</td>\n",
       "      <td>61.478479</td>\n",
       "      <td>6.147848</td>\n",
       "      <td>0.010657</td>\n",
       "    </tr>\n",
       "    <tr>\n",
       "      <th>226</th>\n",
       "      <td>0</td>\n",
       "      <td>9</td>\n",
       "      <td>10</td>\n",
       "      <td>3</td>\n",
       "      <td>[[364.5296403852473, 48.50582960297397], [363....</td>\n",
       "      <td>[False, False, False, False, False, False, Fal...</td>\n",
       "      <td>[17, 25, None, 23, None, 25, None, 23, 17, 30]</td>\n",
       "      <td>[14.549091872423544, 7.1809610472257885, 6.191...</td>\n",
       "      <td>14.549092</td>\n",
       "      <td>5.046265</td>\n",
       "      <td>[0.0, 13.58624041533986, 12.712034612094063, 1...</td>\n",
       "      <td>15.242208</td>\n",
       "      <td>1.524221</td>\n",
       "      <td>[0.0, 13.58624041533986, 18.936362017655064, 2...</td>\n",
       "      <td>70.522500</td>\n",
       "      <td>7.052250</td>\n",
       "      <td>-0.191011</td>\n",
       "    </tr>\n",
       "    <tr>\n",
       "      <th>120</th>\n",
       "      <td>0</td>\n",
       "      <td>9</td>\n",
       "      <td>10</td>\n",
       "      <td>3</td>\n",
       "      <td>[[731.5740012875029, 985.4359047909439], [730....</td>\n",
       "      <td>[False, False, False, False, False, False, Fal...</td>\n",
       "      <td>[359, None, 393, 386, None, 497, None, 478, 44...</td>\n",
       "      <td>[4.068428945128219, 5.299697773265093, 6.53096...</td>\n",
       "      <td>6.530967</td>\n",
       "      <td>4.068429</td>\n",
       "      <td>[0.0, 4.242740835597505, 8.485481671194934, 8....</td>\n",
       "      <td>12.446318</td>\n",
       "      <td>1.244632</td>\n",
       "      <td>[0.0, 4.242740835597505, 8.485481671194933, 16...</td>\n",
       "      <td>60.765324</td>\n",
       "      <td>6.076532</td>\n",
       "      <td>0.329117</td>\n",
       "    </tr>\n",
       "    <tr>\n",
       "      <th>48</th>\n",
       "      <td>0</td>\n",
       "      <td>9</td>\n",
       "      <td>10</td>\n",
       "      <td>2</td>\n",
       "      <td>[[989.1088850084332, 606.6161373490835], [980....</td>\n",
       "      <td>[False, False, False, False, False, False, Fal...</td>\n",
       "      <td>[204, 237, 234, 226, None, 303, 325, 270, None...</td>\n",
       "      <td>[7.399277020331919, 6.793742230659745, 5.91727...</td>\n",
       "      <td>7.399277</td>\n",
       "      <td>4.618091</td>\n",
       "      <td>[0.0, 12.979177075324426, 21.471769322317915, ...</td>\n",
       "      <td>33.538523</td>\n",
       "      <td>3.353852</td>\n",
       "      <td>[0.0, 12.979177075324426, 27.602536197387856, ...</td>\n",
       "      <td>86.467650</td>\n",
       "      <td>8.646765</td>\n",
       "      <td>-0.195260</td>\n",
       "    </tr>\n",
       "  </tbody>\n",
       "</table>\n",
       "</div>"
      ],
      "text/plain": [
       "     start_frame  end_frame  total_frames  inferred_frames  \\\n",
       "84             0          9            10                2   \n",
       "254            0          9            10                2   \n",
       "226            0          9            10                3   \n",
       "120            0          9            10                3   \n",
       "48             0          9            10                2   \n",
       "\n",
       "                                             positions  \\\n",
       "84   [[924.4424223401345, 630.4622205804176], [922....   \n",
       "254  [[462.59921137153657, 87.3266610934649], [464....   \n",
       "226  [[364.5296403852473, 48.50582960297397], [363....   \n",
       "120  [[731.5740012875029, 985.4359047909439], [730....   \n",
       "48   [[989.1088850084332, 606.6161373490835], [980....   \n",
       "\n",
       "                                          touches_side  \\\n",
       "84   [False, False, False, False, False, False, Fal...   \n",
       "254  [False, False, False, False, False, False, Fal...   \n",
       "226  [False, False, False, False, False, False, Fal...   \n",
       "120  [False, False, False, False, False, False, Fal...   \n",
       "48   [False, False, False, False, False, False, Fal...   \n",
       "\n",
       "                                              local_id  \\\n",
       "84   [213, 239, 247, None, 252, 304, 338, 284, None...   \n",
       "254       [35, None, 41, 29, 34, 53, 50, None, 26, 45]   \n",
       "226     [17, 25, None, 23, None, 25, None, 23, 17, 30]   \n",
       "120  [359, None, 393, 386, None, 497, None, 478, 44...   \n",
       "48   [204, 237, 234, 226, None, 303, 325, 270, None...   \n",
       "\n",
       "                                                 radii  max_radius  \\\n",
       "84   [4.259537945889915, 13.957279475043833, 5.8086...   13.957279   \n",
       "254  [8.703892974511014, 10.077845392836224, 11.451...   13.134838   \n",
       "226  [14.549091872423544, 7.1809610472257885, 6.191...   14.549092   \n",
       "120  [4.068428945128219, 5.299697773265093, 6.53096...    6.530967   \n",
       "48   [7.399277020331919, 6.793742230659745, 5.91727...    7.399277   \n",
       "\n",
       "     min_radius                                    disp_from_start   max_disp  \\\n",
       "84     4.259538  [0.0, 1.9500745649647626, 7.513096711181075, 9...  22.162873   \n",
       "254    4.184142  [0.0, 2.6256147586666496, 5.2512295173333055, ...  15.325503   \n",
       "226    5.046265  [0.0, 13.58624041533986, 12.712034612094063, 1...  15.242208   \n",
       "120    4.068429  [0.0, 4.242740835597505, 8.485481671194934, 8....  12.446318   \n",
       "48     4.618091  [0.0, 12.979177075324426, 21.471769322317915, ...  33.538523   \n",
       "\n",
       "     drift_rate                                      dist_traveled  \\\n",
       "84     2.216287  [0.0, 1.9500745649647626, 11.258680965615211, ...   \n",
       "254    1.532550  [0.0, 2.6256147586666496, 5.2512295173333055, ...   \n",
       "226    1.524221  [0.0, 13.58624041533986, 18.936362017655064, 2...   \n",
       "120    1.244632  [0.0, 4.242740835597505, 8.485481671194933, 16...   \n",
       "48     3.353852  [0.0, 12.979177075324426, 27.602536197387856, ...   \n",
       "\n",
       "     total_traveled  movement_rate  growth_rate  \n",
       "84        48.609589       4.860959     0.136197  \n",
       "254       61.478479       6.147848     0.010657  \n",
       "226       70.522500       7.052250    -0.191011  \n",
       "120       60.765324       6.076532     0.329117  \n",
       "48        86.467650       8.646765    -0.195260  "
      ]
     },
     "execution_count": 13,
     "metadata": {},
     "output_type": "execute_result"
    }
   ],
   "source": [
    "void_tracks = compile_void_tracks(tracks)\n",
    "void_tracks.sort_values('total_frames', ascending=False).head()"
   ]
  },
  {
   "cell_type": "code",
   "execution_count": 14,
   "id": "ac312e5f-f53d-4f91-a206-96cd7ef982ca",
   "metadata": {},
   "outputs": [
    {
     "data": {
      "image/png": "[encoded data removed]",
      "text/plain": [
       "<Figure size 600x300 with 2 Axes>"
      ]
     },
     "metadata": {},
     "output_type": "display_data"
    }
   ],
   "source": [
    "fig, axs = plt.subplots(1, 2, figsize=(6, 3))\n",
    "\n",
    "for ax, t, l in zip(axs, [initial_void_tracks, void_tracks], ['Original', 'No Drift']):\n",
    "    ax.set_yticks(ax.set_xticks([]))\n",
    "    ax.set_title(l, fontsize=8)\n",
    "    for p in t.query('total_frames > 6')['positions']: \n",
    "        ax.plot(p[:, 0], p[:, 1])\n",
    "\n",
    "fig.tight_layout()"
   ]
  },
  {
   "cell_type": "markdown",
   "id": "e04b19c1-c9e0-46c7-af1b-e122f8af2b20",
   "metadata": {},
   "source": [
    "We can use this to save an easy summary of where each void is during each frame"
   ]
  },
  {
   "cell_type": "markdown",
   "id": "4078d508-b5e1-4f5d-8ee9-38543411215d",
   "metadata": {},
   "source": [
    "## Save for later use\n",
    "Let's save a few things separately.\n",
    "\n",
    "First, the data for each frame"
   ]
  },
  {
   "cell_type": "code",
   "execution_count": 15,
   "id": "b43b1bc7-713d-41e8-87ac-9bd2c4420ae0",
   "metadata": {},
   "outputs": [],
   "source": [
    "results.drop(columns=['labeled_img']).to_json('frame-data.json', orient='records', lines=True)"
   ]
  },
  {
   "cell_type": "markdown",
   "id": "3abf97c7-9467-4ed3-a03b-07ebd92483b1",
   "metadata": {},
   "source": [
    "Then the summary of void tracks, in full detail"
   ]
  },
  {
   "cell_type": "code",
   "execution_count": 16,
   "id": "ded5129a-f7e5-4e54-9d83-04c66b4226cf",
   "metadata": {},
   "outputs": [],
   "source": [
    "void_tracks.to_json('track-data.json', orient='records', lines=True)"
   ]
  },
  {
   "cell_type": "markdown",
   "id": "b95947a8-8152-4fe4-aa83-9dfb19d1a840",
   "metadata": {},
   "source": [
    "Now the CSV of voids that are tracked across many frames coordinates in 2D"
   ]
  },
  {
   "cell_type": "code",
   "execution_count": 17,
   "id": "0f2511cf-38cb-4ecb-8944-136019998f3e",
   "metadata": {},
   "outputs": [],
   "source": [
    "tracked_coords = defaultdict(list)\n",
    "for rid, row in void_tracks.query('total_frames >= 8').iterrows():\n",
    "    for i, (x, y) in enumerate(row['positions']):\n",
    "        tracked_coords['id'].append(rid)\n",
    "        tracked_coords['frame'].append(i + row['start_frame'])\n",
    "        tracked_coords['x'].append(x)\n",
    "        tracked_coords['y'].append(y)\n",
    "    tracked_coords['r'].extend(row['radii'])\n",
    "tracked_coords = pd.DataFrame(tracked_coords)"
   ]
  },
  {
   "cell_type": "code",
   "execution_count": 18,
   "id": "15579dbf-c26d-43f8-a7ab-2afdd49a400b",
   "metadata": {},
   "outputs": [],
   "source": [
    "tracked_coords.to_csv('void-2d-coordinates.csv', index=False)"
   ]
  },
  {
   "cell_type": "code",
   "execution_count": null,
   "id": "d70e6cfd-341b-4c62-88ae-3a623ca47efd",
   "metadata": {},
   "outputs": [],
   "source": []
  }
 ],
 "metadata": {
  "kernelspec": {
   "display_name": "Python 3 (ipykernel)",
   "language": "python",
   "name": "python3"
  },
  "language_info": {
   "codemirror_mode": {
    "name": "ipython",
    "version": 3
   },
   "file_extension": ".py",
   "mimetype": "text/x-python",
   "name": "python",
   "nbconvert_exporter": "python",
   "pygments_lexer": "ipython3",
   "version": "3.10.13"
  }
 },
 "nbformat": 4,
 "nbformat_minor": 5
}
