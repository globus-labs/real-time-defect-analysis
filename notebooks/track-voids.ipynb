{
 "cells": [
  {
   "cell_type": "markdown",
   "id": "ae7f3584-aaa5-4303-9603-fb6c86730111",
   "metadata": {},
   "source": [
    "# Void Tracking\n",
    "Demonstration of how to use the void tracking utilities"
   ]
  },
  {
   "cell_type": "code",
   "execution_count": 1,
   "id": "c136bb96-220c-4228-8501-a4ebde1c5cc1",
   "metadata": {},
   "outputs": [],
   "source": [
    "%matplotlib inline\n",
    "from matplotlib import pyplot as plt\n",
    "from rtdefects.analysis import track_voids, compute_drift, compile_void_tracks\n",
    "import pandas as pd\n",
    "import numpy as np"
   ]
  },
  {
   "cell_type": "markdown",
   "id": "ed2ed6a7-3dd0-4678-a2cf-aedf8b814b29",
   "metadata": {},
   "source": [
    "## Load in the defect information\n",
    "The `rtdefects` command-line application generates a JSON file with the positions and sizes of each void detected in each frame.\n",
    "\n",
    "Our first step is to load that JSON into memory"
   ]
  },
  {
   "cell_type": "code",
   "execution_count": 2,
   "id": "748ee2c8-a2c9-43a1-abe7-fbf8fcead147",
   "metadata": {},
   "outputs": [
    {
     "name": "stdout",
     "output_type": "stream",
     "text": [
      "Loaded defects from 1477 frames\n"
     ]
    }
   ],
   "source": [
    "void_data = pd.read_json('files/video34-Ni-600C-then-650C_defects.json', lines=True).sort_values(\"image-path\", ignore_index=True)\n",
    "print(f'Loaded defects from {len(void_data)} frames')"
   ]
  },
  {
   "cell_type": "markdown",
   "id": "67826df8-4cc0-4e2b-88e3-8efdcd07098d",
   "metadata": {},
   "source": [
    "## Show that we've detected void growth\n",
    "Without tracking individual voids, we can see that they are growing in size and number"
   ]
  },
  {
   "cell_type": "code",
   "execution_count": 3,
   "id": "354fabad-eed0-4fd7-a012-62ddc4e703e2",
   "metadata": {},
   "outputs": [
    {
     "data": {
      "image/png": "[encoded data removed]",
      "text/plain": [
       "<Figure size 468x180 with 2 Axes>"
      ]
     },
     "metadata": {
      "needs_background": "light"
     },
     "output_type": "display_data"
    }
   ],
   "source": [
    "fig, axs = plt.subplots(1, 2, sharex=True, figsize=(6.5, 2.5))\n",
    "\n",
    "axs[0].plot(void_data.index, void_data['void_count'])\n",
    "axs[0].set_ylabel('Void Count')\n",
    "\n",
    "axs[1].plot(void_data.index, void_data['radii_average'])\n",
    "axs[1].set_ylabel('Average Radius')\n",
    "\n",
    "for ax in axs:\n",
    "    ax.set_xlabel('Frame')\n",
    "    \n",
    "fig.tight_layout()"
   ]
  },
  {
   "cell_type": "markdown",
   "id": "94b69475-2839-405c-afbc-e14decc86911",
   "metadata": {},
   "source": [
    "We can see that we are detecting at least a dozen void per frame. Both the number and size increase with time.\n",
    "\n",
    "There are many frames at the end where we don't detect any defects. Let's eliminate thsoe from the analysis."
   ]
  },
  {
   "cell_type": "code",
   "execution_count": 4,
   "id": "c0f62408-2862-4034-9d71-1d52af142bb3",
   "metadata": {},
   "outputs": [
    {
     "name": "stdout",
     "output_type": "stream",
     "text": [
      "Reduced to 1166 frames with at least 1 void.\n"
     ]
    }
   ],
   "source": [
    "void_data.query('void_count > 0', inplace=True, )\n",
    "print(f'Reduced to {len(void_data)} frames with at least 1 void.')"
   ]
  },
  {
   "cell_type": "markdown",
   "id": "e0e8895d-ff21-43fa-8a4f-bcbc99e696e8",
   "metadata": {},
   "source": [
    "## Do an initial pass of defect detection\n",
    "We are going to get the positions of the slow-moving voids to detect the drift between frames"
   ]
  },
  {
   "cell_type": "code",
   "execution_count": 5,
   "id": "be56ffd8-aa2c-4c2d-a281-a71cf0e81493",
   "metadata": {},
   "outputs": [
    {
     "name": "stdout",
     "output_type": "stream",
     "text": [
      "Found 3182 unique voids from a total of 15631 detected\n",
      "CPU times: user 397 ms, sys: 79.3 ms, total: 476 ms\n",
      "Wall time: 487 ms\n"
     ]
    }
   ],
   "source": [
    "%%time\n",
    "initial_tracks = track_voids(void_data['positions'].tolist(), threshold=10)\n",
    "print(f'Found {len(initial_tracks)} unique voids from a total of {np.sum(initial_tracks > 0)} detected')"
   ]
  },
  {
   "cell_type": "markdown",
   "id": "5b5251d2-1101-4edb-bd95-2579fec5e455",
   "metadata": {},
   "source": [
    "Let's plot the tracks of a few"
   ]
  },
  {
   "cell_type": "code",
   "execution_count": 6,
   "id": "14e7bb35-4de6-4985-90be-5a78fa1040cd",
   "metadata": {},
   "outputs": [
    {
     "data": {
      "text/html": [
       "<div>\n",
       "<style scoped>\n",
       "    .dataframe tbody tr th:only-of-type {\n",
       "        vertical-align: middle;\n",
       "    }\n",
       "\n",
       "    .dataframe tbody tr th {\n",
       "        vertical-align: top;\n",
       "    }\n",
       "\n",
       "    .dataframe thead th {\n",
       "        text-align: right;\n",
       "    }\n",
       "</style>\n",
       "<table border=\"1\" class=\"dataframe\">\n",
       "  <thead>\n",
       "    <tr style=\"text-align: right;\">\n",
       "      <th></th>\n",
       "      <th>start_frame</th>\n",
       "      <th>end_frame</th>\n",
       "      <th>total_frames</th>\n",
       "      <th>positions</th>\n",
       "      <th>disp_from_start</th>\n",
       "      <th>max_disp</th>\n",
       "      <th>drift_rate</th>\n",
       "      <th>dist_traveled</th>\n",
       "      <th>total_traveled</th>\n",
       "      <th>movement_rate</th>\n",
       "    </tr>\n",
       "  </thead>\n",
       "  <tbody>\n",
       "    <tr>\n",
       "      <th>0</th>\n",
       "      <td>0</td>\n",
       "      <td>38</td>\n",
       "      <td>39</td>\n",
       "      <td>[[6.161048689138576, 112.85393258426966], [6.2...</td>\n",
       "      <td>[0.0, 1.5022461296234388, 3.0698828260430635, ...</td>\n",
       "      <td>40.733134</td>\n",
       "      <td>1.044439</td>\n",
       "      <td>[0.0, 1.5022461296234388, 3.0720634513540834, ...</td>\n",
       "      <td>61.287659</td>\n",
       "      <td>1.571478</td>\n",
       "    </tr>\n",
       "    <tr>\n",
       "      <th>1</th>\n",
       "      <td>0</td>\n",
       "      <td>0</td>\n",
       "      <td>1</td>\n",
       "      <td>[[27.875838926174495, 320.96644295302013]]</td>\n",
       "      <td>NaN</td>\n",
       "      <td>NaN</td>\n",
       "      <td>NaN</td>\n",
       "      <td>NaN</td>\n",
       "      <td>NaN</td>\n",
       "      <td>NaN</td>\n",
       "    </tr>\n",
       "    <tr>\n",
       "      <th>2</th>\n",
       "      <td>0</td>\n",
       "      <td>90</td>\n",
       "      <td>91</td>\n",
       "      <td>[[89.68503937007874, 127.82114735658043], [90....</td>\n",
       "      <td>[0.0, 1.1170801527332135, 2.106294050835948, 4...</td>\n",
       "      <td>90.385912</td>\n",
       "      <td>0.993252</td>\n",
       "      <td>[0.0, 1.1170801527332135, 2.1294832508939914, ...</td>\n",
       "      <td>160.564813</td>\n",
       "      <td>1.764448</td>\n",
       "    </tr>\n",
       "    <tr>\n",
       "      <th>3</th>\n",
       "      <td>0</td>\n",
       "      <td>12</td>\n",
       "      <td>13</td>\n",
       "      <td>[[121.0231884057971, 240.13333333333333], [121...</td>\n",
       "      <td>[0.0, 1.1752327774052405, 2.5863356750798827, ...</td>\n",
       "      <td>12.890716</td>\n",
       "      <td>0.991594</td>\n",
       "      <td>[0.0, 1.1752327774052405, 2.6563308287154017, ...</td>\n",
       "      <td>18.844002</td>\n",
       "      <td>1.449539</td>\n",
       "    </tr>\n",
       "    <tr>\n",
       "      <th>4</th>\n",
       "      <td>0</td>\n",
       "      <td>12</td>\n",
       "      <td>13</td>\n",
       "      <td>[[247.7584803256445, 398.57937584803256], [247...</td>\n",
       "      <td>[0.0, 1.8969949257770593, 2.0976253821983657, ...</td>\n",
       "      <td>12.804450</td>\n",
       "      <td>0.984958</td>\n",
       "      <td>[0.0, 1.8969949257770593, 2.1964728249287178, ...</td>\n",
       "      <td>17.621374</td>\n",
       "      <td>1.355490</td>\n",
       "    </tr>\n",
       "    <tr>\n",
       "      <th>...</th>\n",
       "      <td>...</td>\n",
       "      <td>...</td>\n",
       "      <td>...</td>\n",
       "      <td>...</td>\n",
       "      <td>...</td>\n",
       "      <td>...</td>\n",
       "      <td>...</td>\n",
       "      <td>...</td>\n",
       "      <td>...</td>\n",
       "      <td>...</td>\n",
       "    </tr>\n",
       "    <tr>\n",
       "      <th>3177</th>\n",
       "      <td>1162</td>\n",
       "      <td>1162</td>\n",
       "      <td>1</td>\n",
       "      <td>[[664.115, 177.52]]</td>\n",
       "      <td>NaN</td>\n",
       "      <td>NaN</td>\n",
       "      <td>NaN</td>\n",
       "      <td>NaN</td>\n",
       "      <td>NaN</td>\n",
       "      <td>NaN</td>\n",
       "    </tr>\n",
       "    <tr>\n",
       "      <th>3178</th>\n",
       "      <td>1163</td>\n",
       "      <td>1163</td>\n",
       "      <td>1</td>\n",
       "      <td>[[111.34375, 22.010416666666668]]</td>\n",
       "      <td>NaN</td>\n",
       "      <td>NaN</td>\n",
       "      <td>NaN</td>\n",
       "      <td>NaN</td>\n",
       "      <td>NaN</td>\n",
       "      <td>NaN</td>\n",
       "    </tr>\n",
       "    <tr>\n",
       "      <th>3179</th>\n",
       "      <td>1164</td>\n",
       "      <td>1164</td>\n",
       "      <td>1</td>\n",
       "      <td>[[627.9826589595376, 578.4190751445087]]</td>\n",
       "      <td>NaN</td>\n",
       "      <td>NaN</td>\n",
       "      <td>NaN</td>\n",
       "      <td>NaN</td>\n",
       "      <td>NaN</td>\n",
       "      <td>NaN</td>\n",
       "    </tr>\n",
       "    <tr>\n",
       "      <th>3180</th>\n",
       "      <td>1165</td>\n",
       "      <td>1165</td>\n",
       "      <td>1</td>\n",
       "      <td>[[697.3555555555556, 110.46666666666667]]</td>\n",
       "      <td>NaN</td>\n",
       "      <td>NaN</td>\n",
       "      <td>NaN</td>\n",
       "      <td>NaN</td>\n",
       "      <td>NaN</td>\n",
       "      <td>NaN</td>\n",
       "    </tr>\n",
       "    <tr>\n",
       "      <th>3181</th>\n",
       "      <td>1165</td>\n",
       "      <td>1165</td>\n",
       "      <td>1</td>\n",
       "      <td>[[893.4117647058823, 62.43529411764706]]</td>\n",
       "      <td>NaN</td>\n",
       "      <td>NaN</td>\n",
       "      <td>NaN</td>\n",
       "      <td>NaN</td>\n",
       "      <td>NaN</td>\n",
       "      <td>NaN</td>\n",
       "    </tr>\n",
       "  </tbody>\n",
       "</table>\n",
       "<p>3182 rows × 10 columns</p>\n",
       "</div>"
      ],
      "text/plain": [
       "      start_frame  end_frame  total_frames  \\\n",
       "0               0         38            39   \n",
       "1               0          0             1   \n",
       "2               0         90            91   \n",
       "3               0         12            13   \n",
       "4               0         12            13   \n",
       "...           ...        ...           ...   \n",
       "3177         1162       1162             1   \n",
       "3178         1163       1163             1   \n",
       "3179         1164       1164             1   \n",
       "3180         1165       1165             1   \n",
       "3181         1165       1165             1   \n",
       "\n",
       "                                              positions  \\\n",
       "0     [[6.161048689138576, 112.85393258426966], [6.2...   \n",
       "1            [[27.875838926174495, 320.96644295302013]]   \n",
       "2     [[89.68503937007874, 127.82114735658043], [90....   \n",
       "3     [[121.0231884057971, 240.13333333333333], [121...   \n",
       "4     [[247.7584803256445, 398.57937584803256], [247...   \n",
       "...                                                 ...   \n",
       "3177                                [[664.115, 177.52]]   \n",
       "3178                  [[111.34375, 22.010416666666668]]   \n",
       "3179           [[627.9826589595376, 578.4190751445087]]   \n",
       "3180          [[697.3555555555556, 110.46666666666667]]   \n",
       "3181           [[893.4117647058823, 62.43529411764706]]   \n",
       "\n",
       "                                        disp_from_start   max_disp  \\\n",
       "0     [0.0, 1.5022461296234388, 3.0698828260430635, ...  40.733134   \n",
       "1                                                   NaN        NaN   \n",
       "2     [0.0, 1.1170801527332135, 2.106294050835948, 4...  90.385912   \n",
       "3     [0.0, 1.1752327774052405, 2.5863356750798827, ...  12.890716   \n",
       "4     [0.0, 1.8969949257770593, 2.0976253821983657, ...  12.804450   \n",
       "...                                                 ...        ...   \n",
       "3177                                                NaN        NaN   \n",
       "3178                                                NaN        NaN   \n",
       "3179                                                NaN        NaN   \n",
       "3180                                                NaN        NaN   \n",
       "3181                                                NaN        NaN   \n",
       "\n",
       "      drift_rate                                      dist_traveled  \\\n",
       "0       1.044439  [0.0, 1.5022461296234388, 3.0720634513540834, ...   \n",
       "1            NaN                                                NaN   \n",
       "2       0.993252  [0.0, 1.1170801527332135, 2.1294832508939914, ...   \n",
       "3       0.991594  [0.0, 1.1752327774052405, 2.6563308287154017, ...   \n",
       "4       0.984958  [0.0, 1.8969949257770593, 2.1964728249287178, ...   \n",
       "...          ...                                                ...   \n",
       "3177         NaN                                                NaN   \n",
       "3178         NaN                                                NaN   \n",
       "3179         NaN                                                NaN   \n",
       "3180         NaN                                                NaN   \n",
       "3181         NaN                                                NaN   \n",
       "\n",
       "      total_traveled  movement_rate  \n",
       "0          61.287659       1.571478  \n",
       "1                NaN            NaN  \n",
       "2         160.564813       1.764448  \n",
       "3          18.844002       1.449539  \n",
       "4          17.621374       1.355490  \n",
       "...              ...            ...  \n",
       "3177             NaN            NaN  \n",
       "3178             NaN            NaN  \n",
       "3179             NaN            NaN  \n",
       "3180             NaN            NaN  \n",
       "3181             NaN            NaN  \n",
       "\n",
       "[3182 rows x 10 columns]"
      ]
     },
     "execution_count": 6,
     "metadata": {},
     "output_type": "execute_result"
    }
   ],
   "source": [
    "void_tracks = compile_void_tracks(void_data['positions'].tolist(), initial_tracks)\n",
    "void_tracks"
   ]
  },
  {
   "cell_type": "code",
   "execution_count": 7,
   "id": "aec1a7ab-0172-4f70-af16-08723fd58a31",
   "metadata": {},
   "outputs": [
    {
     "data": {
      "text/plain": [
       "(0.0, 1024.0)"
      ]
     },
     "execution_count": 7,
     "metadata": {},
     "output_type": "execute_result"
    },
    {
     "data": {
      "image/png": "[encoded data removed]",
      "text/plain": [
       "<Figure size 216x216 with 1 Axes>"
      ]
     },
     "metadata": {
      "needs_background": "light"
     },
     "output_type": "display_data"
    }
   ],
   "source": [
    "fig, ax = plt.subplots(figsize=(3, 3))\n",
    "\n",
    "\n",
    "longest_tracks = void_tracks.sort_values('total_frames').tail(5)\n",
    "for pos in longest_tracks['positions']:\n",
    "    ax.plot(pos[:, 0], pos[:, 1], ':o', ms=1)\n",
    "\n",
    "ax.set_xlim(0, 1024)\n",
    "ax.set_ylim(0, 1024)"
   ]
  },
  {
   "cell_type": "markdown",
   "id": "3eb55b83-8a52-4a13-b721-eb3c8ffaceba",
   "metadata": {},
   "source": [
    "We can see a systematic trend with all of the voids \"moving\" the same direction, which we can attribute to image drift."
   ]
  },
  {
   "cell_type": "markdown",
   "id": "555f4eb2-ebe6-42df-9186-eb14adcf1022",
   "metadata": {},
   "source": [
    "## Removing Drift\n",
    "We detect drift from the median movement of all voids over each frame."
   ]
  },
  {
   "cell_type": "code",
   "execution_count": 8,
   "id": "704315ac-894f-4913-a61a-3073cb0a57cc",
   "metadata": {},
   "outputs": [],
   "source": [
    "drift = compute_drift(initial_tracks, void_data['positions'].tolist())"
   ]
  },
  {
   "cell_type": "code",
   "execution_count": 9,
   "id": "2ff0b670-6736-4e0f-8979-e117dcf89e6f",
   "metadata": {},
   "outputs": [
    {
     "data": {
      "image/png": "[encoded data removed]",
      "text/plain": [
       "<Figure size 540x180 with 3 Axes>"
      ]
     },
     "metadata": {
      "needs_background": "light"
     },
     "output_type": "display_data"
    }
   ],
   "source": [
    "fig, axs = plt.subplots(1, 3, figsize=(7.5, 2.5))\n",
    "\n",
    "for ax, i, l in zip(axs, range(2), ['x', 'y']):\n",
    "    ax.plot(drift[:, i])\n",
    "    ax.set_xlabel('Frame')\n",
    "    ax.set_ylabel(l + ' drift')\n",
    "\n",
    "axs[2].scatter(drift[:, 0], drift[:, 1], c=np.arange(drift.shape[0]), s=0.1)\n",
    "axs[2].set_xlabel('x drift')\n",
    "axs[2].set_ylabel('y drift')\n",
    "\n",
    "fig.tight_layout()"
   ]
  },
  {
   "cell_type": "markdown",
   "id": "f3c36314-c0ff-40c5-911e-c99f22ce04cc",
   "metadata": {},
   "source": [
    "We can see there are two distinct phases of drift. We gradually move to the lower left and then to the upper left.\n",
    "\n",
    "Given these drifts, let's re-evaluate the positions of each void"
   ]
  },
  {
   "cell_type": "code",
   "execution_count": 10,
   "id": "a9ae7951-62be-4482-89bd-07b71bb4b9c1",
   "metadata": {},
   "outputs": [],
   "source": [
    "void_data['actual_positions'] = [np.subtract(p, d) for p, d in zip(void_data['positions'], drift)]"
   ]
  },
  {
   "cell_type": "code",
   "execution_count": 11,
   "id": "c4038e00-81aa-4e9a-8ed7-b877a1f352ff",
   "metadata": {},
   "outputs": [],
   "source": [
    "void_tracks = compile_void_tracks(void_data['actual_positions'].tolist(), initial_tracks)"
   ]
  },
  {
   "cell_type": "code",
   "execution_count": 12,
   "id": "0b7304f3-c5ba-419c-9be6-2991cdbde667",
   "metadata": {},
   "outputs": [
    {
     "data": {
      "image/png": "[encoded data removed]",
      "text/plain": [
       "<Figure size 216x216 with 1 Axes>"
      ]
     },
     "metadata": {
      "needs_background": "light"
     },
     "output_type": "display_data"
    }
   ],
   "source": [
    "fig, ax = plt.subplots(figsize=(3, 3))\n",
    "\n",
    "\n",
    "longest_tracks = void_tracks.sort_values('total_frames').tail(5)\n",
    "for pos in longest_tracks['positions']:\n",
    "    ax.plot(pos[:, 0], pos[:, 1], ':o', ms=1)"
   ]
  },
  {
   "cell_type": "markdown",
   "id": "a07a6fec-4b3d-42ff-a89b-e297b1c42a9f",
   "metadata": {},
   "source": [
    "Note they are all mostly static"
   ]
  },
  {
   "cell_type": "markdown",
   "id": "5af3d758-0504-4b24-a358-84f9c94d5c35",
   "metadata": {},
   "source": [
    "## Remove drift and then re-detect voids\n",
    "Now that we know which movements are due to the microscope drift, we can be more confident in labeling voids."
   ]
  },
  {
   "cell_type": "code",
   "execution_count": 13,
   "id": "efaecf1b-0dca-4bb9-9743-6d64aabf84fe",
   "metadata": {},
   "outputs": [
    {
     "name": "stdout",
     "output_type": "stream",
     "text": [
      "Found 2526 unique voids from a total of 15631 detected\n",
      "CPU times: user 513 ms, sys: 28.6 ms, total: 542 ms\n",
      "Wall time: 502 ms\n"
     ]
    }
   ],
   "source": [
    "%%time\n",
    "tracks = track_voids(void_data['actual_positions'].tolist(), threshold=10)\n",
    "print(f'Found {len(tracks)} unique voids from a total of {np.sum(tracks > 0)} detected')"
   ]
  },
  {
   "cell_type": "markdown",
   "id": "4d85ba6c-ee7e-43ed-8a4b-fa3303ecf2f9",
   "metadata": {},
   "source": [
    "Note how we fewer unique voids this time! Things that initially \"moved\" too far to detect because of the camera drift are now associated together."
   ]
  },
  {
   "cell_type": "code",
   "execution_count": 14,
   "id": "379f37f9-8b3f-4f8d-8677-f2f0b75639d4",
   "metadata": {},
   "outputs": [
    {
     "data": {
      "text/html": [
       "<div>\n",
       "<style scoped>\n",
       "    .dataframe tbody tr th:only-of-type {\n",
       "        vertical-align: middle;\n",
       "    }\n",
       "\n",
       "    .dataframe tbody tr th {\n",
       "        vertical-align: top;\n",
       "    }\n",
       "\n",
       "    .dataframe thead th {\n",
       "        text-align: right;\n",
       "    }\n",
       "</style>\n",
       "<table border=\"1\" class=\"dataframe\">\n",
       "  <thead>\n",
       "    <tr style=\"text-align: right;\">\n",
       "      <th></th>\n",
       "      <th>start_frame</th>\n",
       "      <th>end_frame</th>\n",
       "      <th>total_frames</th>\n",
       "      <th>positions</th>\n",
       "      <th>disp_from_start</th>\n",
       "      <th>max_disp</th>\n",
       "      <th>drift_rate</th>\n",
       "      <th>dist_traveled</th>\n",
       "      <th>total_traveled</th>\n",
       "      <th>movement_rate</th>\n",
       "      <th>radii</th>\n",
       "      <th>max_radius</th>\n",
       "      <th>min_radius</th>\n",
       "      <th>growth_rate</th>\n",
       "    </tr>\n",
       "  </thead>\n",
       "  <tbody>\n",
       "    <tr>\n",
       "      <th>0</th>\n",
       "      <td>0</td>\n",
       "      <td>38</td>\n",
       "      <td>39</td>\n",
       "      <td>[[6.161048689138576, 112.85393258426966], [6.0...</td>\n",
       "      <td>[0.0, 0.16575776316605317, 0.4066787096789729,...</td>\n",
       "      <td>4.544139</td>\n",
       "      <td>0.116516</td>\n",
       "      <td>[0.0, 0.16575776316605317, 0.4552567819352688,...</td>\n",
       "      <td>33.833452</td>\n",
       "      <td>0.867524</td>\n",
       "      <td>[18.437867513470433, 19.08262324195121, 19.281...</td>\n",
       "      <td>26.123866</td>\n",
       "      <td>14.668929</td>\n",
       "      <td>-0.095582</td>\n",
       "    </tr>\n",
       "    <tr>\n",
       "      <th>1</th>\n",
       "      <td>0</td>\n",
       "      <td>0</td>\n",
       "      <td>1</td>\n",
       "      <td>[[27.875838926174495, 320.96644295302013]]</td>\n",
       "      <td>NaN</td>\n",
       "      <td>NaN</td>\n",
       "      <td>NaN</td>\n",
       "      <td>NaN</td>\n",
       "      <td>NaN</td>\n",
       "      <td>NaN</td>\n",
       "      <td>[19.47884453275087]</td>\n",
       "      <td>19.478845</td>\n",
       "      <td>19.478845</td>\n",
       "      <td>NaN</td>\n",
       "    </tr>\n",
       "    <tr>\n",
       "      <th>2</th>\n",
       "      <td>0</td>\n",
       "      <td>90</td>\n",
       "      <td>91</td>\n",
       "      <td>[[89.68503937007874, 127.82114735658043], [89....</td>\n",
       "      <td>[0.0, 0.3471476922544422, 0.5807706435567195, ...</td>\n",
       "      <td>2.059030</td>\n",
       "      <td>0.022627</td>\n",
       "      <td>[0.0, 0.3471476922544422, 0.6488045421373106, ...</td>\n",
       "      <td>55.972481</td>\n",
       "      <td>0.615082</td>\n",
       "      <td>[33.64386950500135, 33.33973788969849, 34.0763...</td>\n",
       "      <td>38.629480</td>\n",
       "      <td>33.090573</td>\n",
       "      <td>0.046965</td>\n",
       "    </tr>\n",
       "    <tr>\n",
       "      <th>3</th>\n",
       "      <td>0</td>\n",
       "      <td>22</td>\n",
       "      <td>23</td>\n",
       "      <td>[[121.0231884057971, 240.13333333333333], [121...</td>\n",
       "      <td>[0.0, 0.5659027784767252, 0.420591103996161, 0...</td>\n",
       "      <td>3.431565</td>\n",
       "      <td>0.149198</td>\n",
       "      <td>[0.0, 0.5659027784767252, 0.774020499556609, 1...</td>\n",
       "      <td>20.067441</td>\n",
       "      <td>0.872497</td>\n",
       "      <td>[20.958712816717327, 21.290215544369623, 21.90...</td>\n",
       "      <td>24.721549</td>\n",
       "      <td>20.652730</td>\n",
       "      <td>0.052510</td>\n",
       "    </tr>\n",
       "    <tr>\n",
       "      <th>4</th>\n",
       "      <td>0</td>\n",
       "      <td>90</td>\n",
       "      <td>91</td>\n",
       "      <td>[[247.7584803256445, 398.57937584803256], [247...</td>\n",
       "      <td>[0.0, 0.5050488187505003, 0.5998002591927982, ...</td>\n",
       "      <td>1.515365</td>\n",
       "      <td>0.016652</td>\n",
       "      <td>[0.0, 0.5050488187505003, 1.6093816456734817, ...</td>\n",
       "      <td>43.498973</td>\n",
       "      <td>0.478011</td>\n",
       "      <td>[30.632948674096244, 29.70446102021492, 29.811...</td>\n",
       "      <td>36.072854</td>\n",
       "      <td>29.402885</td>\n",
       "      <td>0.055697</td>\n",
       "    </tr>\n",
       "    <tr>\n",
       "      <th>...</th>\n",
       "      <td>...</td>\n",
       "      <td>...</td>\n",
       "      <td>...</td>\n",
       "      <td>...</td>\n",
       "      <td>...</td>\n",
       "      <td>...</td>\n",
       "      <td>...</td>\n",
       "      <td>...</td>\n",
       "      <td>...</td>\n",
       "      <td>...</td>\n",
       "      <td>...</td>\n",
       "      <td>...</td>\n",
       "      <td>...</td>\n",
       "      <td>...</td>\n",
       "    </tr>\n",
       "    <tr>\n",
       "      <th>2521</th>\n",
       "      <td>1162</td>\n",
       "      <td>1162</td>\n",
       "      <td>1</td>\n",
       "      <td>[[1262.5721513634633, -372.1526003232053]]</td>\n",
       "      <td>NaN</td>\n",
       "      <td>NaN</td>\n",
       "      <td>NaN</td>\n",
       "      <td>NaN</td>\n",
       "      <td>NaN</td>\n",
       "      <td>NaN</td>\n",
       "      <td>[15.957691216057308]</td>\n",
       "      <td>15.957691</td>\n",
       "      <td>15.957691</td>\n",
       "      <td>NaN</td>\n",
       "    </tr>\n",
       "    <tr>\n",
       "      <th>2522</th>\n",
       "      <td>1163</td>\n",
       "      <td>1163</td>\n",
       "      <td>1</td>\n",
       "      <td>[[709.8009013634633, -527.6621836565387]]</td>\n",
       "      <td>NaN</td>\n",
       "      <td>NaN</td>\n",
       "      <td>NaN</td>\n",
       "      <td>NaN</td>\n",
       "      <td>NaN</td>\n",
       "      <td>NaN</td>\n",
       "      <td>[11.055812783082736]</td>\n",
       "      <td>11.055813</td>\n",
       "      <td>11.055813</td>\n",
       "      <td>NaN</td>\n",
       "    </tr>\n",
       "    <tr>\n",
       "      <th>2523</th>\n",
       "      <td>1164</td>\n",
       "      <td>1164</td>\n",
       "      <td>1</td>\n",
       "      <td>[[1226.439810323001, 28.746474821303423]]</td>\n",
       "      <td>NaN</td>\n",
       "      <td>NaN</td>\n",
       "      <td>NaN</td>\n",
       "      <td>NaN</td>\n",
       "      <td>NaN</td>\n",
       "      <td>NaN</td>\n",
       "      <td>[20.98906578384008]</td>\n",
       "      <td>20.989066</td>\n",
       "      <td>20.989066</td>\n",
       "      <td>NaN</td>\n",
       "    </tr>\n",
       "    <tr>\n",
       "      <th>2524</th>\n",
       "      <td>1165</td>\n",
       "      <td>1165</td>\n",
       "      <td>1</td>\n",
       "      <td>[[1295.8127069190189, -439.2059336565386]]</td>\n",
       "      <td>NaN</td>\n",
       "      <td>NaN</td>\n",
       "      <td>NaN</td>\n",
       "      <td>NaN</td>\n",
       "      <td>NaN</td>\n",
       "      <td>NaN</td>\n",
       "      <td>[13.110581167104948]</td>\n",
       "      <td>13.110581</td>\n",
       "      <td>13.110581</td>\n",
       "      <td>NaN</td>\n",
       "    </tr>\n",
       "    <tr>\n",
       "      <th>2525</th>\n",
       "      <td>1165</td>\n",
       "      <td>1165</td>\n",
       "      <td>1</td>\n",
       "      <td>[[1491.8689160693457, -487.23730620555824]]</td>\n",
       "      <td>NaN</td>\n",
       "      <td>NaN</td>\n",
       "      <td>NaN</td>\n",
       "      <td>NaN</td>\n",
       "      <td>NaN</td>\n",
       "      <td>NaN</td>\n",
       "      <td>[10.403141895720198]</td>\n",
       "      <td>10.403142</td>\n",
       "      <td>10.403142</td>\n",
       "      <td>NaN</td>\n",
       "    </tr>\n",
       "  </tbody>\n",
       "</table>\n",
       "<p>2526 rows × 14 columns</p>\n",
       "</div>"
      ],
      "text/plain": [
       "      start_frame  end_frame  total_frames  \\\n",
       "0               0         38            39   \n",
       "1               0          0             1   \n",
       "2               0         90            91   \n",
       "3               0         22            23   \n",
       "4               0         90            91   \n",
       "...           ...        ...           ...   \n",
       "2521         1162       1162             1   \n",
       "2522         1163       1163             1   \n",
       "2523         1164       1164             1   \n",
       "2524         1165       1165             1   \n",
       "2525         1165       1165             1   \n",
       "\n",
       "                                              positions  \\\n",
       "0     [[6.161048689138576, 112.85393258426966], [6.0...   \n",
       "1            [[27.875838926174495, 320.96644295302013]]   \n",
       "2     [[89.68503937007874, 127.82114735658043], [89....   \n",
       "3     [[121.0231884057971, 240.13333333333333], [121...   \n",
       "4     [[247.7584803256445, 398.57937584803256], [247...   \n",
       "...                                                 ...   \n",
       "2521         [[1262.5721513634633, -372.1526003232053]]   \n",
       "2522          [[709.8009013634633, -527.6621836565387]]   \n",
       "2523          [[1226.439810323001, 28.746474821303423]]   \n",
       "2524         [[1295.8127069190189, -439.2059336565386]]   \n",
       "2525        [[1491.8689160693457, -487.23730620555824]]   \n",
       "\n",
       "                                        disp_from_start  max_disp  drift_rate  \\\n",
       "0     [0.0, 0.16575776316605317, 0.4066787096789729,...  4.544139    0.116516   \n",
       "1                                                   NaN       NaN         NaN   \n",
       "2     [0.0, 0.3471476922544422, 0.5807706435567195, ...  2.059030    0.022627   \n",
       "3     [0.0, 0.5659027784767252, 0.420591103996161, 0...  3.431565    0.149198   \n",
       "4     [0.0, 0.5050488187505003, 0.5998002591927982, ...  1.515365    0.016652   \n",
       "...                                                 ...       ...         ...   \n",
       "2521                                                NaN       NaN         NaN   \n",
       "2522                                                NaN       NaN         NaN   \n",
       "2523                                                NaN       NaN         NaN   \n",
       "2524                                                NaN       NaN         NaN   \n",
       "2525                                                NaN       NaN         NaN   \n",
       "\n",
       "                                          dist_traveled  total_traveled  \\\n",
       "0     [0.0, 0.16575776316605317, 0.4552567819352688,...       33.833452   \n",
       "1                                                   NaN             NaN   \n",
       "2     [0.0, 0.3471476922544422, 0.6488045421373106, ...       55.972481   \n",
       "3     [0.0, 0.5659027784767252, 0.774020499556609, 1...       20.067441   \n",
       "4     [0.0, 0.5050488187505003, 1.6093816456734817, ...       43.498973   \n",
       "...                                                 ...             ...   \n",
       "2521                                                NaN             NaN   \n",
       "2522                                                NaN             NaN   \n",
       "2523                                                NaN             NaN   \n",
       "2524                                                NaN             NaN   \n",
       "2525                                                NaN             NaN   \n",
       "\n",
       "      movement_rate                                              radii  \\\n",
       "0          0.867524  [18.437867513470433, 19.08262324195121, 19.281...   \n",
       "1               NaN                                [19.47884453275087]   \n",
       "2          0.615082  [33.64386950500135, 33.33973788969849, 34.0763...   \n",
       "3          0.872497  [20.958712816717327, 21.290215544369623, 21.90...   \n",
       "4          0.478011  [30.632948674096244, 29.70446102021492, 29.811...   \n",
       "...             ...                                                ...   \n",
       "2521            NaN                               [15.957691216057308]   \n",
       "2522            NaN                               [11.055812783082736]   \n",
       "2523            NaN                                [20.98906578384008]   \n",
       "2524            NaN                               [13.110581167104948]   \n",
       "2525            NaN                               [10.403141895720198]   \n",
       "\n",
       "      max_radius  min_radius  growth_rate  \n",
       "0      26.123866   14.668929    -0.095582  \n",
       "1      19.478845   19.478845          NaN  \n",
       "2      38.629480   33.090573     0.046965  \n",
       "3      24.721549   20.652730     0.052510  \n",
       "4      36.072854   29.402885     0.055697  \n",
       "...          ...         ...          ...  \n",
       "2521   15.957691   15.957691          NaN  \n",
       "2522   11.055813   11.055813          NaN  \n",
       "2523   20.989066   20.989066          NaN  \n",
       "2524   13.110581   13.110581          NaN  \n",
       "2525   10.403142   10.403142          NaN  \n",
       "\n",
       "[2526 rows x 14 columns]"
      ]
     },
     "execution_count": 14,
     "metadata": {},
     "output_type": "execute_result"
    }
   ],
   "source": [
    "void_tracks = compile_void_tracks(void_data['actual_positions'].tolist(), tracks, void_data['radii'].tolist())\n",
    "void_tracks"
   ]
  },
  {
   "cell_type": "markdown",
   "id": "9fc9fa2d-f241-4a18-a7e0-82b27a6ff285",
   "metadata": {},
   "source": [
    "## Perform some analyzes\n",
    "Show some key points we learn about the voids"
   ]
  },
  {
   "cell_type": "code",
   "execution_count": 15,
   "id": "846bdbb4-0331-4aac-80f9-be8e04fe641f",
   "metadata": {},
   "outputs": [
    {
     "data": {
      "text/plain": [
       "(10.0, 60.0)"
      ]
     },
     "execution_count": 15,
     "metadata": {},
     "output_type": "execute_result"
    },
    {
     "data": {
      "image/png": "[encoded data removed]",
      "text/plain": [
       "<Figure size 432x288 with 1 Axes>"
      ]
     },
     "metadata": {
      "needs_background": "light"
     },
     "output_type": "display_data"
    }
   ],
   "source": [
    "fig, ax = plt.subplots()\n",
    "long_lived = void_tracks.query('total_frames > 15')\n",
    "\n",
    "ax.scatter(long_lived['min_radius'], long_lived['growth_rate'])\n",
    "ax.set_xlabel('Minimum Radius')\n",
    "ax.set_ylabel('Growth Rate')\n",
    "\n",
    "ax.set_xlim(10, 60)\n",
    "#ax.set_ylim(-1, 1)"
   ]
  },
  {
   "cell_type": "markdown",
   "id": "cca1e1ec-ed23-42e0-85ef-6993f03e253a",
   "metadata": {},
   "source": [
    "We have a partition between small voids that grow and disappear"
   ]
  },
  {
   "cell_type": "code",
   "execution_count": 16,
   "id": "c5de52bb-b2bf-4202-b95c-838769996b62",
   "metadata": {},
   "outputs": [
    {
     "data": {
      "text/plain": [
       "Text(0, 0.5, 'Movement Rate')"
      ]
     },
     "execution_count": 16,
     "metadata": {},
     "output_type": "execute_result"
    },
    {
     "data": {
      "image/png": "[encoded data removed]",
      "text/plain": [
       "<Figure size 432x288 with 1 Axes>"
      ]
     },
     "metadata": {
      "needs_background": "light"
     },
     "output_type": "display_data"
    }
   ],
   "source": [
    "fig, ax = plt.subplots()\n",
    "\n",
    "long_lived = void_tracks.query('total_frames > 15')\n",
    "\n",
    "ax.scatter(long_lived['min_radius'], long_lived['movement_rate'])\n",
    "ax.set_xlabel('Minimum Radius')\n",
    "ax.set_ylabel('Movement Rate')"
   ]
  },
  {
   "cell_type": "markdown",
   "id": "8acf07f1-2378-4cf3-892e-fe560fc9ec79",
   "metadata": {},
   "source": [
    "Small voids generally move farther than larger ones"
   ]
  },
  {
   "cell_type": "code",
   "execution_count": 17,
   "id": "f2056cac-b144-4ad7-89d3-b2c74b122f88",
   "metadata": {},
   "outputs": [],
   "source": [
    "void_tracks.to_csv('void_tracks.csv', index=False)"
   ]
  },
  {
   "cell_type": "code",
   "execution_count": null,
   "id": "8ea32a04-3475-4ee4-9fde-6796cc7c9192",
   "metadata": {},
   "outputs": [],
   "source": []
  }
 ],
 "metadata": {
  "kernelspec": {
   "display_name": "Python 3 (ipykernel)",
   "language": "python",
   "name": "python3"
  },
  "language_info": {
   "codemirror_mode": {
    "name": "ipython",
    "version": 3
   },
   "file_extension": ".py",
   "mimetype": "text/x-python",
   "name": "python",
   "nbconvert_exporter": "python",
   "pygments_lexer": "ipython3",
   "version": "3.9.12"
  }
 },
 "nbformat": 4,
 "nbformat_minor": 5
}
