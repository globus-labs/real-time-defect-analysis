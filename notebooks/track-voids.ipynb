{
 "cells": [
  {
   "cell_type": "markdown",
   "id": "ae7f3584-aaa5-4303-9603-fb6c86730111",
   "metadata": {},
   "source": [
    "# Void Tracking\n",
    "Demonstration of how to use the void tracking utilities"
   ]
  },
  {
   "cell_type": "code",
   "execution_count": 1,
   "id": "c136bb96-220c-4228-8501-a4ebde1c5cc1",
   "metadata": {},
   "outputs": [],
   "source": [
    "%matplotlib inline\n",
    "from matplotlib import pyplot as plt\n",
    "from rtdefects.analysis import convert_to_per_particle, compile_void_tracks, compute_drift\n",
    "import trackpy as tp\n",
    "import pandas as pd\n",
    "import numpy as np"
   ]
  },
  {
   "cell_type": "markdown",
   "id": "ed2ed6a7-3dd0-4678-a2cf-aedf8b814b29",
   "metadata": {},
   "source": [
    "## Load in the defect information\n",
    "The `rtdefects` command-line application generates a JSON file with the positions and sizes of each void detected in each frame.\n",
    "\n",
    "Our first step is to load that JSON into memory"
   ]
  },
  {
   "cell_type": "code",
   "execution_count": 2,
   "id": "748ee2c8-a2c9-43a1-abe7-fbf8fcead147",
   "metadata": {},
   "outputs": [
    {
     "name": "stdout",
     "output_type": "stream",
     "text": [
      "Loaded defects from 1477 frames\n"
     ]
    }
   ],
   "source": [
    "void_data = pd.read_json('files/video34-Ni-600C-then-650C_defects.json', lines=True).sort_values(\"image-path\", ignore_index=True)\n",
    "print(f'Loaded defects from {len(void_data)} frames')"
   ]
  },
  {
   "cell_type": "markdown",
   "id": "67826df8-4cc0-4e2b-88e3-8efdcd07098d",
   "metadata": {},
   "source": [
    "## Show that we've detected void growth\n",
    "Without tracking individual voids, we can see that they are growing in size and number"
   ]
  },
  {
   "cell_type": "code",
   "execution_count": 3,
   "id": "354fabad-eed0-4fd7-a012-62ddc4e703e2",
   "metadata": {},
   "outputs": [
    {
     "data": {
      "image/png": "[encoded data removed]",
      "text/plain": [
       "<Figure size 468x180 with 2 Axes>"
      ]
     },
     "metadata": {
      "needs_background": "light"
     },
     "output_type": "display_data"
    }
   ],
   "source": [
    "fig, axs = plt.subplots(1, 2, sharex=True, figsize=(6.5, 2.5))\n",
    "\n",
    "axs[0].plot(void_data.index, void_data['void_count'])\n",
    "axs[0].set_ylabel('Void Count')\n",
    "\n",
    "axs[1].plot(void_data.index, void_data['radii_average'])\n",
    "axs[1].set_ylabel('Average Radius')\n",
    "\n",
    "for ax in axs:\n",
    "    ax.set_xlabel('Frame')\n",
    "    \n",
    "fig.tight_layout()"
   ]
  },
  {
   "cell_type": "markdown",
   "id": "94b69475-2839-405c-afbc-e14decc86911",
   "metadata": {},
   "source": [
    "We can see that we are detecting at least a dozen void per frame. Both the number and size increase with time.\n",
    "\n",
    "There are many frames at the end where we don't detect any defects. Let's eliminate thsoe from the analysis."
   ]
  },
  {
   "cell_type": "code",
   "execution_count": 4,
   "id": "c0f62408-2862-4034-9d71-1d52af142bb3",
   "metadata": {},
   "outputs": [
    {
     "name": "stdout",
     "output_type": "stream",
     "text": [
      "Reduced to 1166 frames with at least 1 void.\n"
     ]
    }
   ],
   "source": [
    "void_data.query('void_count > 0', inplace=True, )\n",
    "print(f'Reduced to {len(void_data)} frames with at least 1 void.')"
   ]
  },
  {
   "cell_type": "markdown",
   "id": "e0e8895d-ff21-43fa-8a4f-bcbc99e696e8",
   "metadata": {},
   "source": [
    "## Do an initial pass of defect detection\n",
    "We are going to get the positions of the slow-moving voids to detect the drift between frames"
   ]
  },
  {
   "cell_type": "code",
   "execution_count": 5,
   "id": "52e80985-76e3-4a8e-902c-dc3da36eed6a",
   "metadata": {},
   "outputs": [
    {
     "name": "stdout",
     "output_type": "stream",
     "text": [
      "Frame 1444: 2 trajectories present.\n",
      "Found a total of 2735 unique particles\n",
      "CPU times: user 1.55 s, sys: 126 ms, total: 1.68 s\n",
      "Wall time: 1.55 s\n"
     ]
    }
   ],
   "source": [
    "%%time\n",
    "particles = pd.concat(list(convert_to_per_particle(void_data)))\n",
    "initial_tracks = tp.link_df(particles, search_range=10, memory=3)\n",
    "print(f'Found a total of {len(initial_tracks.particle.value_counts())} unique particles')"
   ]
  },
  {
   "cell_type": "markdown",
   "id": "5b5251d2-1101-4edb-bd95-2579fec5e455",
   "metadata": {},
   "source": [
    "Let's plot the tracks of a few"
   ]
  },
  {
   "cell_type": "code",
   "execution_count": 6,
   "id": "14e7bb35-4de6-4985-90be-5a78fa1040cd",
   "metadata": {},
   "outputs": [
    {
     "data": {
      "text/html": [
       "<div>\n",
       "<style scoped>\n",
       "    .dataframe tbody tr th:only-of-type {\n",
       "        vertical-align: middle;\n",
       "    }\n",
       "\n",
       "    .dataframe tbody tr th {\n",
       "        vertical-align: top;\n",
       "    }\n",
       "\n",
       "    .dataframe thead th {\n",
       "        text-align: right;\n",
       "    }\n",
       "</style>\n",
       "<table border=\"1\" class=\"dataframe\">\n",
       "  <thead>\n",
       "    <tr style=\"text-align: right;\">\n",
       "      <th></th>\n",
       "      <th>start_frame</th>\n",
       "      <th>end_frame</th>\n",
       "      <th>total_frames</th>\n",
       "      <th>inferred_frames</th>\n",
       "      <th>positions</th>\n",
       "      <th>disp_from_start</th>\n",
       "      <th>max_disp</th>\n",
       "      <th>drift_rate</th>\n",
       "      <th>dist_traveled</th>\n",
       "      <th>total_traveled</th>\n",
       "      <th>movement_rate</th>\n",
       "      <th>radii</th>\n",
       "      <th>max_radius</th>\n",
       "      <th>min_radius</th>\n",
       "      <th>growth_rate</th>\n",
       "    </tr>\n",
       "  </thead>\n",
       "  <tbody>\n",
       "    <tr>\n",
       "      <th>142</th>\n",
       "      <td>201</td>\n",
       "      <td>476</td>\n",
       "      <td>276</td>\n",
       "      <td>0</td>\n",
       "      <td>[[392.9471974004874, 554.6677497969131], [393....</td>\n",
       "      <td>[0.0, 0.06457629442605488, 1.1946113749989995,...</td>\n",
       "      <td>84.003790</td>\n",
       "      <td>0.304362</td>\n",
       "      <td>[0.0, 0.06457629442605488, 1.1998808938837642,...</td>\n",
       "      <td>243.120680</td>\n",
       "      <td>0.880872</td>\n",
       "      <td>[39.58987092134787, 39.299358363257696, 40.354...</td>\n",
       "      <td>48.494056</td>\n",
       "      <td>39.299358</td>\n",
       "      <td>0.028160</td>\n",
       "    </tr>\n",
       "    <tr>\n",
       "      <th>140</th>\n",
       "      <td>201</td>\n",
       "      <td>476</td>\n",
       "      <td>276</td>\n",
       "      <td>0</td>\n",
       "      <td>[[108.07837648705389, 98.36109167249825], [107...</td>\n",
       "      <td>[0.0, 0.6414840198402811, 0.8403738881099015, ...</td>\n",
       "      <td>85.283419</td>\n",
       "      <td>0.308998</td>\n",
       "      <td>[0.0, 0.6414840198402811, 0.9886338716132734, ...</td>\n",
       "      <td>255.619951</td>\n",
       "      <td>0.926159</td>\n",
       "      <td>[42.65512055341712, 41.274623085567335, 41.551...</td>\n",
       "      <td>59.108115</td>\n",
       "      <td>40.964982</td>\n",
       "      <td>0.025597</td>\n",
       "    </tr>\n",
       "  </tbody>\n",
       "</table>\n",
       "</div>"
      ],
      "text/plain": [
       "     start_frame  end_frame  total_frames  inferred_frames  \\\n",
       "142          201        476           276                0   \n",
       "140          201        476           276                0   \n",
       "\n",
       "                                             positions  \\\n",
       "142  [[392.9471974004874, 554.6677497969131], [393....   \n",
       "140  [[108.07837648705389, 98.36109167249825], [107...   \n",
       "\n",
       "                                       disp_from_start   max_disp  drift_rate  \\\n",
       "142  [0.0, 0.06457629442605488, 1.1946113749989995,...  84.003790    0.304362   \n",
       "140  [0.0, 0.6414840198402811, 0.8403738881099015, ...  85.283419    0.308998   \n",
       "\n",
       "                                         dist_traveled  total_traveled  \\\n",
       "142  [0.0, 0.06457629442605488, 1.1998808938837642,...      243.120680   \n",
       "140  [0.0, 0.6414840198402811, 0.9886338716132734, ...      255.619951   \n",
       "\n",
       "     movement_rate                                              radii  \\\n",
       "142       0.880872  [39.58987092134787, 39.299358363257696, 40.354...   \n",
       "140       0.926159  [42.65512055341712, 41.274623085567335, 41.551...   \n",
       "\n",
       "     max_radius  min_radius  growth_rate  \n",
       "142   48.494056   39.299358     0.028160  \n",
       "140   59.108115   40.964982     0.025597  "
      ]
     },
     "execution_count": 6,
     "metadata": {},
     "output_type": "execute_result"
    }
   ],
   "source": [
    "void_tracks = compile_void_tracks(initial_tracks)\n",
    "void_tracks.sort_values('total_frames').tail(2)"
   ]
  },
  {
   "cell_type": "code",
   "execution_count": 7,
   "id": "aec1a7ab-0172-4f70-af16-08723fd58a31",
   "metadata": {},
   "outputs": [
    {
     "data": {
      "text/plain": [
       "(0.0, 1024.0)"
      ]
     },
     "execution_count": 7,
     "metadata": {},
     "output_type": "execute_result"
    },
    {
     "data": {
      "image/png": "[encoded data removed]",
      "text/plain": [
       "<Figure size 216x216 with 1 Axes>"
      ]
     },
     "metadata": {
      "needs_background": "light"
     },
     "output_type": "display_data"
    }
   ],
   "source": [
    "fig, ax = plt.subplots(figsize=(3, 3))\n",
    "\n",
    "longest_tracks = void_tracks.sort_values('total_frames').tail(5)\n",
    "for pos in longest_tracks['positions']:\n",
    "    ax.plot(pos[:, 0], pos[:, 1], ':o', ms=1)\n",
    "\n",
    "ax.set_xlim(0, 1024)\n",
    "ax.set_ylim(0, 1024)"
   ]
  },
  {
   "cell_type": "markdown",
   "id": "3eb55b83-8a52-4a13-b721-eb3c8ffaceba",
   "metadata": {},
   "source": [
    "We can see a systematic trend with all of the voids \"moving\" the same direction, which we can attribute to image drift."
   ]
  },
  {
   "cell_type": "markdown",
   "id": "555f4eb2-ebe6-42df-9186-eb14adcf1022",
   "metadata": {},
   "source": [
    "## Removing Drift\n",
    "We detect drift from the median movement of all voids over each frame."
   ]
  },
  {
   "cell_type": "code",
   "execution_count": 8,
   "id": "704315ac-894f-4913-a61a-3073cb0a57cc",
   "metadata": {},
   "outputs": [],
   "source": [
    "drift = compute_drift(initial_tracks)"
   ]
  },
  {
   "cell_type": "code",
   "execution_count": 9,
   "id": "2ff0b670-6736-4e0f-8979-e117dcf89e6f",
   "metadata": {},
   "outputs": [
    {
     "data": {
      "image/png": "[encoded data removed]",
      "text/plain": [
       "<Figure size 540x180 with 3 Axes>"
      ]
     },
     "metadata": {
      "needs_background": "light"
     },
     "output_type": "display_data"
    }
   ],
   "source": [
    "fig, axs = plt.subplots(1, 3, figsize=(7.5, 2.5))\n",
    "\n",
    "for ax, i, l in zip(axs, [0, 1], ['x', 'y']):\n",
    "    ax.plot(drift[:, i])\n",
    "    ax.set_xlabel('Frame')\n",
    "    ax.set_ylabel(l + ' drift')\n",
    "\n",
    "axs[2].scatter(drift[:, 0], drift[:, 1], c=np.arange(drift.shape[0]), s=0.1)\n",
    "axs[2].set_xlabel('x drift')\n",
    "axs[2].set_ylabel('y drift')\n",
    "\n",
    "fig.tight_layout()"
   ]
  },
  {
   "cell_type": "markdown",
   "id": "f3c36314-c0ff-40c5-911e-c99f22ce04cc",
   "metadata": {},
   "source": [
    "We can see there are two distinct phases of drift. We gradually move to the lower left and then to the upper left.\n",
    "\n",
    "Given these drifts, let's re-evaluate the positions of each void"
   ]
  },
  {
   "cell_type": "code",
   "execution_count": 10,
   "id": "a7fcc4f2-59fa-44da-bfd8-991df8cbe927",
   "metadata": {},
   "outputs": [],
   "source": [
    "initial_tracks['x'] -= drift[initial_tracks['frame'], 0]"
   ]
  },
  {
   "cell_type": "code",
   "execution_count": 11,
   "id": "777cb05f-9f41-4bde-95c0-c3bd4c6392f6",
   "metadata": {},
   "outputs": [],
   "source": [
    "initial_tracks['y'] -= drift[initial_tracks['frame'], 1]"
   ]
  },
  {
   "cell_type": "code",
   "execution_count": 12,
   "id": "d22c2973-84f7-467a-8d41-fd46c09c3e79",
   "metadata": {},
   "outputs": [
    {
     "data": {
      "text/html": [
       "<div>\n",
       "<style scoped>\n",
       "    .dataframe tbody tr th:only-of-type {\n",
       "        vertical-align: middle;\n",
       "    }\n",
       "\n",
       "    .dataframe tbody tr th {\n",
       "        vertical-align: top;\n",
       "    }\n",
       "\n",
       "    .dataframe thead th {\n",
       "        text-align: right;\n",
       "    }\n",
       "</style>\n",
       "<table border=\"1\" class=\"dataframe\">\n",
       "  <thead>\n",
       "    <tr style=\"text-align: right;\">\n",
       "      <th></th>\n",
       "      <th>start_frame</th>\n",
       "      <th>end_frame</th>\n",
       "      <th>total_frames</th>\n",
       "      <th>inferred_frames</th>\n",
       "      <th>positions</th>\n",
       "      <th>disp_from_start</th>\n",
       "      <th>max_disp</th>\n",
       "      <th>drift_rate</th>\n",
       "      <th>dist_traveled</th>\n",
       "      <th>total_traveled</th>\n",
       "      <th>movement_rate</th>\n",
       "      <th>radii</th>\n",
       "      <th>max_radius</th>\n",
       "      <th>min_radius</th>\n",
       "      <th>growth_rate</th>\n",
       "    </tr>\n",
       "  </thead>\n",
       "  <tbody>\n",
       "    <tr>\n",
       "      <th>142</th>\n",
       "      <td>201</td>\n",
       "      <td>476</td>\n",
       "      <td>276</td>\n",
       "      <td>0</td>\n",
       "      <td>[[444.6391925280859, 671.641087040753], [444.6...</td>\n",
       "      <td>[0.0, 0.3590734365196866, 0.6441576927100313, ...</td>\n",
       "      <td>8.291997</td>\n",
       "      <td>0.030043</td>\n",
       "      <td>[0.0, 0.3590734365196866, 1.19165271208916, 2....</td>\n",
       "      <td>120.737975</td>\n",
       "      <td>0.437456</td>\n",
       "      <td>[39.58987092134787, 39.299358363257696, 40.354...</td>\n",
       "      <td>48.494056</td>\n",
       "      <td>39.299358</td>\n",
       "      <td>0.028160</td>\n",
       "    </tr>\n",
       "    <tr>\n",
       "      <th>140</th>\n",
       "      <td>201</td>\n",
       "      <td>476</td>\n",
       "      <td>276</td>\n",
       "      <td>0</td>\n",
       "      <td>[[159.7703716146524, 215.33442891633814], [159...</td>\n",
       "      <td>[0.0, 0.3852442596221657, 0.3301480401124719, ...</td>\n",
       "      <td>6.343393</td>\n",
       "      <td>0.022983</td>\n",
       "      <td>[0.0, 0.3852442596221657, 0.44972502660385416,...</td>\n",
       "      <td>130.877783</td>\n",
       "      <td>0.474195</td>\n",
       "      <td>[42.65512055341712, 41.274623085567335, 41.551...</td>\n",
       "      <td>59.108115</td>\n",
       "      <td>40.964982</td>\n",
       "      <td>0.025597</td>\n",
       "    </tr>\n",
       "  </tbody>\n",
       "</table>\n",
       "</div>"
      ],
      "text/plain": [
       "     start_frame  end_frame  total_frames  inferred_frames  \\\n",
       "142          201        476           276                0   \n",
       "140          201        476           276                0   \n",
       "\n",
       "                                             positions  \\\n",
       "142  [[444.6391925280859, 671.641087040753], [444.6...   \n",
       "140  [[159.7703716146524, 215.33442891633814], [159...   \n",
       "\n",
       "                                       disp_from_start  max_disp  drift_rate  \\\n",
       "142  [0.0, 0.3590734365196866, 0.6441576927100313, ...  8.291997    0.030043   \n",
       "140  [0.0, 0.3852442596221657, 0.3301480401124719, ...  6.343393    0.022983   \n",
       "\n",
       "                                         dist_traveled  total_traveled  \\\n",
       "142  [0.0, 0.3590734365196866, 1.19165271208916, 2....      120.737975   \n",
       "140  [0.0, 0.3852442596221657, 0.44972502660385416,...      130.877783   \n",
       "\n",
       "     movement_rate                                              radii  \\\n",
       "142       0.437456  [39.58987092134787, 39.299358363257696, 40.354...   \n",
       "140       0.474195  [42.65512055341712, 41.274623085567335, 41.551...   \n",
       "\n",
       "     max_radius  min_radius  growth_rate  \n",
       "142   48.494056   39.299358     0.028160  \n",
       "140   59.108115   40.964982     0.025597  "
      ]
     },
     "execution_count": 12,
     "metadata": {},
     "output_type": "execute_result"
    }
   ],
   "source": [
    "void_tracks = compile_void_tracks(initial_tracks)\n",
    "void_tracks.sort_values('total_frames').tail(2)"
   ]
  },
  {
   "cell_type": "code",
   "execution_count": 13,
   "id": "cf1e32be-a04e-4c79-bcc6-426d101fe218",
   "metadata": {},
   "outputs": [
    {
     "data": {
      "text/plain": [
       "(0.0, 1024.0)"
      ]
     },
     "execution_count": 13,
     "metadata": {},
     "output_type": "execute_result"
    },
    {
     "data": {
      "image/png": "[encoded data removed]",
      "text/plain": [
       "<Figure size 216x216 with 1 Axes>"
      ]
     },
     "metadata": {
      "needs_background": "light"
     },
     "output_type": "display_data"
    }
   ],
   "source": [
    "fig, ax = plt.subplots(figsize=(3, 3))\n",
    "\n",
    "longest_tracks = void_tracks.sort_values('total_frames').tail(5)\n",
    "for pos in longest_tracks['positions']:\n",
    "    ax.plot(pos[:, 0], pos[:, 1], ':o', ms=1)\n",
    "\n",
    "ax.set_xlim(0, 1024)\n",
    "ax.set_ylim(0, 1024)"
   ]
  },
  {
   "cell_type": "markdown",
   "id": "a07a6fec-4b3d-42ff-a89b-e297b1c42a9f",
   "metadata": {},
   "source": [
    "Note they are all mostly static"
   ]
  },
  {
   "cell_type": "markdown",
   "id": "5af3d758-0504-4b24-a358-84f9c94d5c35",
   "metadata": {},
   "source": [
    "## Remove drift and then re-detect voids\n",
    "Now that we know which movements are due to the microscope drift, we can be more confident in labeling voids."
   ]
  },
  {
   "cell_type": "code",
   "execution_count": 14,
   "id": "bd5982b2-5631-4248-8b81-593aa64d4971",
   "metadata": {},
   "outputs": [],
   "source": [
    "particles['x'] -= drift[particles['frame'], 0]"
   ]
  },
  {
   "cell_type": "code",
   "execution_count": 15,
   "id": "5e4c644a-2f49-4c6a-b5ac-467b554c8062",
   "metadata": {},
   "outputs": [],
   "source": [
    "particles['y'] -= drift[particles['frame'], 1]"
   ]
  },
  {
   "cell_type": "code",
   "execution_count": 16,
   "id": "efaecf1b-0dca-4bb9-9743-6d64aabf84fe",
   "metadata": {},
   "outputs": [
    {
     "name": "stdout",
     "output_type": "stream",
     "text": [
      "Frame 1444: 2 trajectories present.\n",
      "Found a total of 2058 unique particles\n",
      "CPU times: user 796 ms, sys: 155 ms, total: 951 ms\n",
      "Wall time: 793 ms\n"
     ]
    }
   ],
   "source": [
    "%%time\n",
    "initial_tracks = tp.link_df(particles, search_range=10, memory=3)\n",
    "print(f'Found a total of {len(initial_tracks.particle.value_counts())} unique particles')"
   ]
  },
  {
   "cell_type": "markdown",
   "id": "4d85ba6c-ee7e-43ed-8a4b-fa3303ecf2f9",
   "metadata": {},
   "source": [
    "Note how we fewer unique voids this time! Things that initially \"moved\" too far to detect because of the camera drift are now associated together."
   ]
  },
  {
   "cell_type": "code",
   "execution_count": 17,
   "id": "379f37f9-8b3f-4f8d-8677-f2f0b75639d4",
   "metadata": {},
   "outputs": [
    {
     "data": {
      "text/html": [
       "<div>\n",
       "<style scoped>\n",
       "    .dataframe tbody tr th:only-of-type {\n",
       "        vertical-align: middle;\n",
       "    }\n",
       "\n",
       "    .dataframe tbody tr th {\n",
       "        vertical-align: top;\n",
       "    }\n",
       "\n",
       "    .dataframe thead th {\n",
       "        text-align: right;\n",
       "    }\n",
       "</style>\n",
       "<table border=\"1\" class=\"dataframe\">\n",
       "  <thead>\n",
       "    <tr style=\"text-align: right;\">\n",
       "      <th></th>\n",
       "      <th>start_frame</th>\n",
       "      <th>end_frame</th>\n",
       "      <th>total_frames</th>\n",
       "      <th>inferred_frames</th>\n",
       "      <th>positions</th>\n",
       "      <th>disp_from_start</th>\n",
       "      <th>max_disp</th>\n",
       "      <th>drift_rate</th>\n",
       "      <th>dist_traveled</th>\n",
       "      <th>total_traveled</th>\n",
       "      <th>movement_rate</th>\n",
       "      <th>radii</th>\n",
       "      <th>max_radius</th>\n",
       "      <th>min_radius</th>\n",
       "      <th>growth_rate</th>\n",
       "    </tr>\n",
       "  </thead>\n",
       "  <tbody>\n",
       "    <tr>\n",
       "      <th>0</th>\n",
       "      <td>0</td>\n",
       "      <td>38</td>\n",
       "      <td>39</td>\n",
       "      <td>0</td>\n",
       "      <td>[[6.161048689138576, 112.85393258426966], [6.0...</td>\n",
       "      <td>[0.0, 0.16575776316605317, 0.4066787096789729,...</td>\n",
       "      <td>4.544139</td>\n",
       "      <td>0.116516</td>\n",
       "      <td>[0.0, 0.16575776316605317, 0.4552567819352688,...</td>\n",
       "      <td>33.833452</td>\n",
       "      <td>0.867524</td>\n",
       "      <td>[18.437867513470433, 19.08262324195121, 19.281...</td>\n",
       "      <td>26.123866</td>\n",
       "      <td>14.668929</td>\n",
       "      <td>-0.095582</td>\n",
       "    </tr>\n",
       "    <tr>\n",
       "      <th>1</th>\n",
       "      <td>0</td>\n",
       "      <td>21</td>\n",
       "      <td>22</td>\n",
       "      <td>11</td>\n",
       "      <td>[[27.875838926174495, 320.96644295302013], [28...</td>\n",
       "      <td>[0.0, 0.4221402471343445, 0.8442804942686543, ...</td>\n",
       "      <td>4.537920</td>\n",
       "      <td>0.206269</td>\n",
       "      <td>[0.0, 0.4221402471343445, 0.8442804942686541, ...</td>\n",
       "      <td>27.256356</td>\n",
       "      <td>1.238925</td>\n",
       "      <td>[19.47884453275087, 17.91530607784169, 16.3517...</td>\n",
       "      <td>19.478845</td>\n",
       "      <td>8.667245</td>\n",
       "      <td>0.092943</td>\n",
       "    </tr>\n",
       "    <tr>\n",
       "      <th>2</th>\n",
       "      <td>0</td>\n",
       "      <td>90</td>\n",
       "      <td>91</td>\n",
       "      <td>0</td>\n",
       "      <td>[[89.68503937007874, 127.82114735658043], [89....</td>\n",
       "      <td>[0.0, 0.3471476922544422, 0.5807706435567195, ...</td>\n",
       "      <td>2.059030</td>\n",
       "      <td>0.022627</td>\n",
       "      <td>[0.0, 0.3471476922544422, 0.6488045421373106, ...</td>\n",
       "      <td>55.972481</td>\n",
       "      <td>0.615082</td>\n",
       "      <td>[33.64386950500135, 33.33973788969849, 34.0763...</td>\n",
       "      <td>38.629480</td>\n",
       "      <td>33.090573</td>\n",
       "      <td>0.046965</td>\n",
       "    </tr>\n",
       "    <tr>\n",
       "      <th>3</th>\n",
       "      <td>0</td>\n",
       "      <td>90</td>\n",
       "      <td>91</td>\n",
       "      <td>1</td>\n",
       "      <td>[[121.0231884057971, 240.13333333333333], [121...</td>\n",
       "      <td>[0.0, 0.5659027784767252, 0.420591103996161, 0...</td>\n",
       "      <td>3.431565</td>\n",
       "      <td>0.037710</td>\n",
       "      <td>[0.0, 0.5659027784767252, 0.774020499556609, 1...</td>\n",
       "      <td>79.955142</td>\n",
       "      <td>0.878628</td>\n",
       "      <td>[20.958712816717327, 21.290215544369623, 21.90...</td>\n",
       "      <td>28.988586</td>\n",
       "      <td>19.049233</td>\n",
       "      <td>0.054568</td>\n",
       "    </tr>\n",
       "    <tr>\n",
       "      <th>4</th>\n",
       "      <td>0</td>\n",
       "      <td>90</td>\n",
       "      <td>91</td>\n",
       "      <td>0</td>\n",
       "      <td>[[247.7584803256445, 398.57937584803256], [247...</td>\n",
       "      <td>[0.0, 0.5050488187505003, 0.5998002591927982, ...</td>\n",
       "      <td>1.515365</td>\n",
       "      <td>0.016652</td>\n",
       "      <td>[0.0, 0.5050488187505003, 1.6093816456734817, ...</td>\n",
       "      <td>43.498973</td>\n",
       "      <td>0.478011</td>\n",
       "      <td>[30.632948674096244, 29.70446102021492, 29.811...</td>\n",
       "      <td>36.072854</td>\n",
       "      <td>29.402885</td>\n",
       "      <td>0.055697</td>\n",
       "    </tr>\n",
       "    <tr>\n",
       "      <th>...</th>\n",
       "      <td>...</td>\n",
       "      <td>...</td>\n",
       "      <td>...</td>\n",
       "      <td>...</td>\n",
       "      <td>...</td>\n",
       "      <td>...</td>\n",
       "      <td>...</td>\n",
       "      <td>...</td>\n",
       "      <td>...</td>\n",
       "      <td>...</td>\n",
       "      <td>...</td>\n",
       "      <td>...</td>\n",
       "      <td>...</td>\n",
       "      <td>...</td>\n",
       "      <td>...</td>\n",
       "    </tr>\n",
       "    <tr>\n",
       "      <th>2053</th>\n",
       "      <td>1409</td>\n",
       "      <td>1409</td>\n",
       "      <td>1</td>\n",
       "      <td>0</td>\n",
       "      <td>[[1263.3270458332372, -380.5164892181177]]</td>\n",
       "      <td>NaN</td>\n",
       "      <td>NaN</td>\n",
       "      <td>NaN</td>\n",
       "      <td>NaN</td>\n",
       "      <td>NaN</td>\n",
       "      <td>NaN</td>\n",
       "      <td>[15.957691216057308]</td>\n",
       "      <td>15.957691</td>\n",
       "      <td>15.957691</td>\n",
       "      <td>NaN</td>\n",
       "    </tr>\n",
       "    <tr>\n",
       "      <th>2054</th>\n",
       "      <td>1434</td>\n",
       "      <td>1434</td>\n",
       "      <td>1</td>\n",
       "      <td>0</td>\n",
       "      <td>[[710.5557958332371, -536.0260725514511]]</td>\n",
       "      <td>NaN</td>\n",
       "      <td>NaN</td>\n",
       "      <td>NaN</td>\n",
       "      <td>NaN</td>\n",
       "      <td>NaN</td>\n",
       "      <td>NaN</td>\n",
       "      <td>[11.055812783082736]</td>\n",
       "      <td>11.055813</td>\n",
       "      <td>11.055813</td>\n",
       "      <td>NaN</td>\n",
       "    </tr>\n",
       "    <tr>\n",
       "      <th>2055</th>\n",
       "      <td>1441</td>\n",
       "      <td>1441</td>\n",
       "      <td>1</td>\n",
       "      <td>0</td>\n",
       "      <td>[[1227.1947047927747, 20.382585926391016]]</td>\n",
       "      <td>NaN</td>\n",
       "      <td>NaN</td>\n",
       "      <td>NaN</td>\n",
       "      <td>NaN</td>\n",
       "      <td>NaN</td>\n",
       "      <td>NaN</td>\n",
       "      <td>[20.98906578384008]</td>\n",
       "      <td>20.989066</td>\n",
       "      <td>20.989066</td>\n",
       "      <td>NaN</td>\n",
       "    </tr>\n",
       "    <tr>\n",
       "      <th>2056</th>\n",
       "      <td>1444</td>\n",
       "      <td>1444</td>\n",
       "      <td>1</td>\n",
       "      <td>0</td>\n",
       "      <td>[[1296.5676013887928, -447.569822551451]]</td>\n",
       "      <td>NaN</td>\n",
       "      <td>NaN</td>\n",
       "      <td>NaN</td>\n",
       "      <td>NaN</td>\n",
       "      <td>NaN</td>\n",
       "      <td>NaN</td>\n",
       "      <td>[13.110581167104948]</td>\n",
       "      <td>13.110581</td>\n",
       "      <td>13.110581</td>\n",
       "      <td>NaN</td>\n",
       "    </tr>\n",
       "    <tr>\n",
       "      <th>2057</th>\n",
       "      <td>1444</td>\n",
       "      <td>1444</td>\n",
       "      <td>1</td>\n",
       "      <td>0</td>\n",
       "      <td>[[1492.6238105391194, -495.60119510047065]]</td>\n",
       "      <td>NaN</td>\n",
       "      <td>NaN</td>\n",
       "      <td>NaN</td>\n",
       "      <td>NaN</td>\n",
       "      <td>NaN</td>\n",
       "      <td>NaN</td>\n",
       "      <td>[10.403141895720198]</td>\n",
       "      <td>10.403142</td>\n",
       "      <td>10.403142</td>\n",
       "      <td>NaN</td>\n",
       "    </tr>\n",
       "  </tbody>\n",
       "</table>\n",
       "<p>2058 rows × 15 columns</p>\n",
       "</div>"
      ],
      "text/plain": [
       "      start_frame  end_frame  total_frames  inferred_frames  \\\n",
       "0               0         38            39                0   \n",
       "1               0         21            22               11   \n",
       "2               0         90            91                0   \n",
       "3               0         90            91                1   \n",
       "4               0         90            91                0   \n",
       "...           ...        ...           ...              ...   \n",
       "2053         1409       1409             1                0   \n",
       "2054         1434       1434             1                0   \n",
       "2055         1441       1441             1                0   \n",
       "2056         1444       1444             1                0   \n",
       "2057         1444       1444             1                0   \n",
       "\n",
       "                                              positions  \\\n",
       "0     [[6.161048689138576, 112.85393258426966], [6.0...   \n",
       "1     [[27.875838926174495, 320.96644295302013], [28...   \n",
       "2     [[89.68503937007874, 127.82114735658043], [89....   \n",
       "3     [[121.0231884057971, 240.13333333333333], [121...   \n",
       "4     [[247.7584803256445, 398.57937584803256], [247...   \n",
       "...                                                 ...   \n",
       "2053         [[1263.3270458332372, -380.5164892181177]]   \n",
       "2054          [[710.5557958332371, -536.0260725514511]]   \n",
       "2055         [[1227.1947047927747, 20.382585926391016]]   \n",
       "2056          [[1296.5676013887928, -447.569822551451]]   \n",
       "2057        [[1492.6238105391194, -495.60119510047065]]   \n",
       "\n",
       "                                        disp_from_start  max_disp  drift_rate  \\\n",
       "0     [0.0, 0.16575776316605317, 0.4066787096789729,...  4.544139    0.116516   \n",
       "1     [0.0, 0.4221402471343445, 0.8442804942686543, ...  4.537920    0.206269   \n",
       "2     [0.0, 0.3471476922544422, 0.5807706435567195, ...  2.059030    0.022627   \n",
       "3     [0.0, 0.5659027784767252, 0.420591103996161, 0...  3.431565    0.037710   \n",
       "4     [0.0, 0.5050488187505003, 0.5998002591927982, ...  1.515365    0.016652   \n",
       "...                                                 ...       ...         ...   \n",
       "2053                                                NaN       NaN         NaN   \n",
       "2054                                                NaN       NaN         NaN   \n",
       "2055                                                NaN       NaN         NaN   \n",
       "2056                                                NaN       NaN         NaN   \n",
       "2057                                                NaN       NaN         NaN   \n",
       "\n",
       "                                          dist_traveled  total_traveled  \\\n",
       "0     [0.0, 0.16575776316605317, 0.4552567819352688,...       33.833452   \n",
       "1     [0.0, 0.4221402471343445, 0.8442804942686541, ...       27.256356   \n",
       "2     [0.0, 0.3471476922544422, 0.6488045421373106, ...       55.972481   \n",
       "3     [0.0, 0.5659027784767252, 0.774020499556609, 1...       79.955142   \n",
       "4     [0.0, 0.5050488187505003, 1.6093816456734817, ...       43.498973   \n",
       "...                                                 ...             ...   \n",
       "2053                                                NaN             NaN   \n",
       "2054                                                NaN             NaN   \n",
       "2055                                                NaN             NaN   \n",
       "2056                                                NaN             NaN   \n",
       "2057                                                NaN             NaN   \n",
       "\n",
       "      movement_rate                                              radii  \\\n",
       "0          0.867524  [18.437867513470433, 19.08262324195121, 19.281...   \n",
       "1          1.238925  [19.47884453275087, 17.91530607784169, 16.3517...   \n",
       "2          0.615082  [33.64386950500135, 33.33973788969849, 34.0763...   \n",
       "3          0.878628  [20.958712816717327, 21.290215544369623, 21.90...   \n",
       "4          0.478011  [30.632948674096244, 29.70446102021492, 29.811...   \n",
       "...             ...                                                ...   \n",
       "2053            NaN                               [15.957691216057308]   \n",
       "2054            NaN                               [11.055812783082736]   \n",
       "2055            NaN                                [20.98906578384008]   \n",
       "2056            NaN                               [13.110581167104948]   \n",
       "2057            NaN                               [10.403141895720198]   \n",
       "\n",
       "      max_radius  min_radius  growth_rate  \n",
       "0      26.123866   14.668929    -0.095582  \n",
       "1      19.478845    8.667245     0.092943  \n",
       "2      38.629480   33.090573     0.046965  \n",
       "3      28.988586   19.049233     0.054568  \n",
       "4      36.072854   29.402885     0.055697  \n",
       "...          ...         ...          ...  \n",
       "2053   15.957691   15.957691          NaN  \n",
       "2054   11.055813   11.055813          NaN  \n",
       "2055   20.989066   20.989066          NaN  \n",
       "2056   13.110581   13.110581          NaN  \n",
       "2057   10.403142   10.403142          NaN  \n",
       "\n",
       "[2058 rows x 15 columns]"
      ]
     },
     "execution_count": 17,
     "metadata": {},
     "output_type": "execute_result"
    }
   ],
   "source": [
    "void_tracks = compile_void_tracks(initial_tracks)\n",
    "void_tracks"
   ]
  },
  {
   "cell_type": "markdown",
   "id": "9fc9fa2d-f241-4a18-a7e0-82b27a6ff285",
   "metadata": {},
   "source": [
    "## Perform some analyzes\n",
    "Show some key points we learn about the voids"
   ]
  },
  {
   "cell_type": "code",
   "execution_count": 18,
   "id": "846bdbb4-0331-4aac-80f9-be8e04fe641f",
   "metadata": {},
   "outputs": [
    {
     "data": {
      "text/plain": [
       "(10.0, 60.0)"
      ]
     },
     "execution_count": 18,
     "metadata": {},
     "output_type": "execute_result"
    },
    {
     "data": {
      "image/png": "[encoded data removed]",
      "text/plain": [
       "<Figure size 432x288 with 1 Axes>"
      ]
     },
     "metadata": {
      "needs_background": "light"
     },
     "output_type": "display_data"
    }
   ],
   "source": [
    "fig, ax = plt.subplots()\n",
    "long_lived = void_tracks.query('total_frames > 15')\n",
    "\n",
    "ax.scatter(long_lived['min_radius'], long_lived['growth_rate'])\n",
    "ax.set_xlabel('Minimum Radius')\n",
    "ax.set_ylabel('Growth Rate')\n",
    "\n",
    "ax.set_xlim(10, 60)\n",
    "#ax.set_ylim(-1, 1)"
   ]
  },
  {
   "cell_type": "markdown",
   "id": "cca1e1ec-ed23-42e0-85ef-6993f03e253a",
   "metadata": {},
   "source": [
    "We have a partition between small voids that grow and disappear"
   ]
  },
  {
   "cell_type": "code",
   "execution_count": 19,
   "id": "c5de52bb-b2bf-4202-b95c-838769996b62",
   "metadata": {},
   "outputs": [
    {
     "data": {
      "text/plain": [
       "Text(0, 0.5, 'Movement Rate')"
      ]
     },
     "execution_count": 19,
     "metadata": {},
     "output_type": "execute_result"
    },
    {
     "data": {
      "image/png": "[encoded data removed]",
      "text/plain": [
       "<Figure size 432x288 with 1 Axes>"
      ]
     },
     "metadata": {
      "needs_background": "light"
     },
     "output_type": "display_data"
    }
   ],
   "source": [
    "fig, ax = plt.subplots()\n",
    "\n",
    "long_lived = void_tracks.query('total_frames > 15')\n",
    "\n",
    "ax.scatter(long_lived['min_radius'], long_lived['movement_rate'])\n",
    "ax.set_xlabel('Minimum Radius')\n",
    "ax.set_ylabel('Movement Rate')"
   ]
  },
  {
   "cell_type": "markdown",
   "id": "8acf07f1-2378-4cf3-892e-fe560fc9ec79",
   "metadata": {},
   "source": [
    "Small voids generally move farther than larger ones"
   ]
  },
  {
   "cell_type": "code",
   "execution_count": 20,
   "id": "f2056cac-b144-4ad7-89d3-b2c74b122f88",
   "metadata": {},
   "outputs": [],
   "source": [
    "void_tracks.to_csv('void_tracks.csv', index=False)"
   ]
  },
  {
   "cell_type": "code",
   "execution_count": null,
   "id": "8ea32a04-3475-4ee4-9fde-6796cc7c9192",
   "metadata": {},
   "outputs": [],
   "source": []
  }
 ],
 "metadata": {
  "kernelspec": {
   "display_name": "Python 3 (ipykernel)",
   "language": "python",
   "name": "python3"
  },
  "language_info": {
   "codemirror_mode": {
    "name": "ipython",
    "version": 3
   },
   "file_extension": ".py",
   "mimetype": "text/x-python",
   "name": "python",
   "nbconvert_exporter": "python",
   "pygments_lexer": "ipython3",
   "version": "3.9.12"
  }
 },
 "nbformat": 4,
 "nbformat_minor": 5
}
